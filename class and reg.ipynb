{
 "cells": [
  {
   "cell_type": "code",
   "execution_count": 152,
   "id": "546ed139-be3c-4488-a732-427ce148342c",
   "metadata": {},
   "outputs": [],
   "source": [
    "import pandas as pd\n",
    "import seaborn as sns\n",
    "import matplotlib.pyplot as plt\n",
    "from sklearn.preprocessing import LabelEncoder\n",
    "from sklearn.model_selection import train_test_split\n",
    "from sklearn.ensemble import BaggingRegressor\n",
    "from xgboost import XGBClassifier\n",
    "from sklearn.ensemble import RandomForestClassifier\n",
    "from imblearn.over_sampling import SMOTE\n",
    "import numpy as np\n",
    "from sklearn.metrics import accuracy_score, confusion_matrix, mean_absolute_error, f1_score\n",
    "import optuna\n",
    "from sklearn.model_selection import StratifiedKFold, cross_val_score\n",
    "from sklearn.impute import KNNImputer\n",
    "import warnings\n",
    "warnings.filterwarnings('ignore')"
   ]
  },
  {
   "cell_type": "markdown",
   "id": "df4874f3-23dc-4d78-bef7-e324d70ebef7",
   "metadata": {},
   "source": [
    "# Traffic dataset"
   ]
  },
  {
   "cell_type": "code",
   "execution_count": 2,
   "id": "34070c63-fece-4319-bb25-b7d01dc27e7e",
   "metadata": {},
   "outputs": [
    {
     "data": {
      "text/html": [
       "<div>\n",
       "<style scoped>\n",
       "    .dataframe tbody tr th:only-of-type {\n",
       "        vertical-align: middle;\n",
       "    }\n",
       "\n",
       "    .dataframe tbody tr th {\n",
       "        vertical-align: top;\n",
       "    }\n",
       "\n",
       "    .dataframe thead th {\n",
       "        text-align: right;\n",
       "    }\n",
       "</style>\n",
       "<table border=\"1\" class=\"dataframe\">\n",
       "  <thead>\n",
       "    <tr style=\"text-align: right;\">\n",
       "      <th></th>\n",
       "      <th>Time</th>\n",
       "      <th>Date</th>\n",
       "      <th>Day of the week</th>\n",
       "      <th>CarCount</th>\n",
       "      <th>BikeCount</th>\n",
       "      <th>BusCount</th>\n",
       "      <th>TruckCount</th>\n",
       "      <th>Total</th>\n",
       "      <th>Traffic Situation</th>\n",
       "    </tr>\n",
       "  </thead>\n",
       "  <tbody>\n",
       "    <tr>\n",
       "      <th>0</th>\n",
       "      <td>12:00:00 AM</td>\n",
       "      <td>10</td>\n",
       "      <td>Tuesday</td>\n",
       "      <td>13</td>\n",
       "      <td>2</td>\n",
       "      <td>2</td>\n",
       "      <td>24</td>\n",
       "      <td>41</td>\n",
       "      <td>normal</td>\n",
       "    </tr>\n",
       "    <tr>\n",
       "      <th>1</th>\n",
       "      <td>12:15:00 AM</td>\n",
       "      <td>10</td>\n",
       "      <td>Tuesday</td>\n",
       "      <td>14</td>\n",
       "      <td>1</td>\n",
       "      <td>1</td>\n",
       "      <td>36</td>\n",
       "      <td>52</td>\n",
       "      <td>normal</td>\n",
       "    </tr>\n",
       "    <tr>\n",
       "      <th>2</th>\n",
       "      <td>12:30:00 AM</td>\n",
       "      <td>10</td>\n",
       "      <td>Tuesday</td>\n",
       "      <td>10</td>\n",
       "      <td>2</td>\n",
       "      <td>2</td>\n",
       "      <td>32</td>\n",
       "      <td>46</td>\n",
       "      <td>normal</td>\n",
       "    </tr>\n",
       "    <tr>\n",
       "      <th>3</th>\n",
       "      <td>12:45:00 AM</td>\n",
       "      <td>10</td>\n",
       "      <td>Tuesday</td>\n",
       "      <td>10</td>\n",
       "      <td>2</td>\n",
       "      <td>2</td>\n",
       "      <td>36</td>\n",
       "      <td>50</td>\n",
       "      <td>normal</td>\n",
       "    </tr>\n",
       "    <tr>\n",
       "      <th>4</th>\n",
       "      <td>1:00:00 AM</td>\n",
       "      <td>10</td>\n",
       "      <td>Tuesday</td>\n",
       "      <td>11</td>\n",
       "      <td>2</td>\n",
       "      <td>1</td>\n",
       "      <td>34</td>\n",
       "      <td>48</td>\n",
       "      <td>normal</td>\n",
       "    </tr>\n",
       "    <tr>\n",
       "      <th>...</th>\n",
       "      <td>...</td>\n",
       "      <td>...</td>\n",
       "      <td>...</td>\n",
       "      <td>...</td>\n",
       "      <td>...</td>\n",
       "      <td>...</td>\n",
       "      <td>...</td>\n",
       "      <td>...</td>\n",
       "      <td>...</td>\n",
       "    </tr>\n",
       "    <tr>\n",
       "      <th>5947</th>\n",
       "      <td>10:45:00 PM</td>\n",
       "      <td>9</td>\n",
       "      <td>Thursday</td>\n",
       "      <td>16</td>\n",
       "      <td>3</td>\n",
       "      <td>1</td>\n",
       "      <td>36</td>\n",
       "      <td>56</td>\n",
       "      <td>normal</td>\n",
       "    </tr>\n",
       "    <tr>\n",
       "      <th>5948</th>\n",
       "      <td>11:00:00 PM</td>\n",
       "      <td>9</td>\n",
       "      <td>Thursday</td>\n",
       "      <td>11</td>\n",
       "      <td>0</td>\n",
       "      <td>1</td>\n",
       "      <td>30</td>\n",
       "      <td>42</td>\n",
       "      <td>normal</td>\n",
       "    </tr>\n",
       "    <tr>\n",
       "      <th>5949</th>\n",
       "      <td>11:15:00 PM</td>\n",
       "      <td>9</td>\n",
       "      <td>Thursday</td>\n",
       "      <td>15</td>\n",
       "      <td>4</td>\n",
       "      <td>1</td>\n",
       "      <td>25</td>\n",
       "      <td>45</td>\n",
       "      <td>normal</td>\n",
       "    </tr>\n",
       "    <tr>\n",
       "      <th>5950</th>\n",
       "      <td>11:30:00 PM</td>\n",
       "      <td>9</td>\n",
       "      <td>Thursday</td>\n",
       "      <td>16</td>\n",
       "      <td>5</td>\n",
       "      <td>0</td>\n",
       "      <td>27</td>\n",
       "      <td>48</td>\n",
       "      <td>normal</td>\n",
       "    </tr>\n",
       "    <tr>\n",
       "      <th>5951</th>\n",
       "      <td>11:45:00 PM</td>\n",
       "      <td>9</td>\n",
       "      <td>Thursday</td>\n",
       "      <td>14</td>\n",
       "      <td>3</td>\n",
       "      <td>1</td>\n",
       "      <td>15</td>\n",
       "      <td>33</td>\n",
       "      <td>low</td>\n",
       "    </tr>\n",
       "  </tbody>\n",
       "</table>\n",
       "<p>5952 rows × 9 columns</p>\n",
       "</div>"
      ],
      "text/plain": [
       "             Time  Date Day of the week  CarCount  BikeCount  BusCount  \\\n",
       "0     12:00:00 AM    10         Tuesday        13          2         2   \n",
       "1     12:15:00 AM    10         Tuesday        14          1         1   \n",
       "2     12:30:00 AM    10         Tuesday        10          2         2   \n",
       "3     12:45:00 AM    10         Tuesday        10          2         2   \n",
       "4      1:00:00 AM    10         Tuesday        11          2         1   \n",
       "...           ...   ...             ...       ...        ...       ...   \n",
       "5947  10:45:00 PM     9        Thursday        16          3         1   \n",
       "5948  11:00:00 PM     9        Thursday        11          0         1   \n",
       "5949  11:15:00 PM     9        Thursday        15          4         1   \n",
       "5950  11:30:00 PM     9        Thursday        16          5         0   \n",
       "5951  11:45:00 PM     9        Thursday        14          3         1   \n",
       "\n",
       "      TruckCount  Total Traffic Situation  \n",
       "0             24     41            normal  \n",
       "1             36     52            normal  \n",
       "2             32     46            normal  \n",
       "3             36     50            normal  \n",
       "4             34     48            normal  \n",
       "...          ...    ...               ...  \n",
       "5947          36     56            normal  \n",
       "5948          30     42            normal  \n",
       "5949          25     45            normal  \n",
       "5950          27     48            normal  \n",
       "5951          15     33               low  \n",
       "\n",
       "[5952 rows x 9 columns]"
      ]
     },
     "execution_count": 2,
     "metadata": {},
     "output_type": "execute_result"
    }
   ],
   "source": [
    "df=pd.read_csv('/Users/maksimtrebusinin/Downloads/archive-2/TrafficTwoMonth.csv')\n",
    "df"
   ]
  },
  {
   "cell_type": "code",
   "execution_count": 3,
   "id": "386e9a24-57c9-46a9-8330-7141be36e282",
   "metadata": {},
   "outputs": [],
   "source": [
    "df_num=df.select_dtypes('int')"
   ]
  },
  {
   "cell_type": "code",
   "execution_count": 5,
   "id": "b56a9e7d-8098-4c62-8b00-06170a293dbf",
   "metadata": {},
   "outputs": [
    {
     "data": {
      "text/plain": [
       "<Axes: >"
      ]
     },
     "execution_count": 5,
     "metadata": {},
     "output_type": "execute_result"
    },
    {
     "data": {
      "image/png": "[encoded data removed]",
      "text/plain": [
       "<Figure size 640x480 with 2 Axes>"
      ]
     },
     "metadata": {},
     "output_type": "display_data"
    }
   ],
   "source": [
    "sns.heatmap(abs(df_num.corr()), annot=True, fmt='.2f', cbar=True)"
   ]
  },
  {
   "cell_type": "code",
   "execution_count": 6,
   "id": "9e7b84d6-3c7c-4e49-8ef2-594f3157b4f8",
   "metadata": {},
   "outputs": [
    {
     "data": {
      "text/plain": [
       "Time                 0\n",
       "Date                 0\n",
       "Day of the week      0\n",
       "CarCount             0\n",
       "BikeCount            0\n",
       "BusCount             0\n",
       "TruckCount           0\n",
       "Total                0\n",
       "Traffic Situation    0\n",
       "dtype: int64"
      ]
     },
     "execution_count": 6,
     "metadata": {},
     "output_type": "execute_result"
    }
   ],
   "source": [
    "df.isna().sum()"
   ]
  },
  {
   "cell_type": "code",
   "execution_count": 7,
   "id": "341d3fd3-ec99-42bb-8549-ce2a1f3a8c75",
   "metadata": {},
   "outputs": [
    {
     "name": "stdout",
     "output_type": "stream",
     "text": [
      "<class 'pandas.core.frame.DataFrame'>\n",
      "RangeIndex: 5952 entries, 0 to 5951\n",
      "Data columns (total 9 columns):\n",
      " #   Column             Non-Null Count  Dtype \n",
      "---  ------             --------------  ----- \n",
      " 0   Time               5952 non-null   object\n",
      " 1   Date               5952 non-null   int64 \n",
      " 2   Day of the week    5952 non-null   object\n",
      " 3   CarCount           5952 non-null   int64 \n",
      " 4   BikeCount          5952 non-null   int64 \n",
      " 5   BusCount           5952 non-null   int64 \n",
      " 6   TruckCount         5952 non-null   int64 \n",
      " 7   Total              5952 non-null   int64 \n",
      " 8   Traffic Situation  5952 non-null   object\n",
      "dtypes: int64(6), object(3)\n",
      "memory usage: 418.6+ KB\n"
     ]
    }
   ],
   "source": [
    "df.info()"
   ]
  },
  {
   "cell_type": "code",
   "execution_count": 8,
   "id": "a5ae00d5-bffa-4e8e-a4a0-e76b81a29237",
   "metadata": {},
   "outputs": [
    {
     "data": {
      "text/html": [
       "<div>\n",
       "<style scoped>\n",
       "    .dataframe tbody tr th:only-of-type {\n",
       "        vertical-align: middle;\n",
       "    }\n",
       "\n",
       "    .dataframe tbody tr th {\n",
       "        vertical-align: top;\n",
       "    }\n",
       "\n",
       "    .dataframe thead th {\n",
       "        text-align: right;\n",
       "    }\n",
       "</style>\n",
       "<table border=\"1\" class=\"dataframe\">\n",
       "  <thead>\n",
       "    <tr style=\"text-align: right;\">\n",
       "      <th></th>\n",
       "      <th>Date</th>\n",
       "      <th>CarCount</th>\n",
       "      <th>BikeCount</th>\n",
       "      <th>BusCount</th>\n",
       "      <th>TruckCount</th>\n",
       "      <th>Total</th>\n",
       "    </tr>\n",
       "  </thead>\n",
       "  <tbody>\n",
       "    <tr>\n",
       "      <th>count</th>\n",
       "      <td>5952.000000</td>\n",
       "      <td>5952.000000</td>\n",
       "      <td>5952.000000</td>\n",
       "      <td>5952.000000</td>\n",
       "      <td>5952.000000</td>\n",
       "      <td>5952.000000</td>\n",
       "    </tr>\n",
       "    <tr>\n",
       "      <th>mean</th>\n",
       "      <td>16.000000</td>\n",
       "      <td>65.440692</td>\n",
       "      <td>12.161458</td>\n",
       "      <td>12.912970</td>\n",
       "      <td>18.646337</td>\n",
       "      <td>109.161458</td>\n",
       "    </tr>\n",
       "    <tr>\n",
       "      <th>std</th>\n",
       "      <td>8.945023</td>\n",
       "      <td>44.749335</td>\n",
       "      <td>11.537944</td>\n",
       "      <td>12.497736</td>\n",
       "      <td>10.973139</td>\n",
       "      <td>55.996312</td>\n",
       "    </tr>\n",
       "    <tr>\n",
       "      <th>min</th>\n",
       "      <td>1.000000</td>\n",
       "      <td>5.000000</td>\n",
       "      <td>0.000000</td>\n",
       "      <td>0.000000</td>\n",
       "      <td>0.000000</td>\n",
       "      <td>21.000000</td>\n",
       "    </tr>\n",
       "    <tr>\n",
       "      <th>25%</th>\n",
       "      <td>8.000000</td>\n",
       "      <td>18.750000</td>\n",
       "      <td>3.000000</td>\n",
       "      <td>2.000000</td>\n",
       "      <td>10.000000</td>\n",
       "      <td>54.000000</td>\n",
       "    </tr>\n",
       "    <tr>\n",
       "      <th>50%</th>\n",
       "      <td>16.000000</td>\n",
       "      <td>62.000000</td>\n",
       "      <td>9.000000</td>\n",
       "      <td>10.000000</td>\n",
       "      <td>18.000000</td>\n",
       "      <td>104.000000</td>\n",
       "    </tr>\n",
       "    <tr>\n",
       "      <th>75%</th>\n",
       "      <td>24.000000</td>\n",
       "      <td>103.000000</td>\n",
       "      <td>19.000000</td>\n",
       "      <td>20.000000</td>\n",
       "      <td>27.000000</td>\n",
       "      <td>153.000000</td>\n",
       "    </tr>\n",
       "    <tr>\n",
       "      <th>max</th>\n",
       "      <td>31.000000</td>\n",
       "      <td>180.000000</td>\n",
       "      <td>70.000000</td>\n",
       "      <td>50.000000</td>\n",
       "      <td>60.000000</td>\n",
       "      <td>279.000000</td>\n",
       "    </tr>\n",
       "  </tbody>\n",
       "</table>\n",
       "</div>"
      ],
      "text/plain": [
       "              Date     CarCount    BikeCount     BusCount   TruckCount  \\\n",
       "count  5952.000000  5952.000000  5952.000000  5952.000000  5952.000000   \n",
       "mean     16.000000    65.440692    12.161458    12.912970    18.646337   \n",
       "std       8.945023    44.749335    11.537944    12.497736    10.973139   \n",
       "min       1.000000     5.000000     0.000000     0.000000     0.000000   \n",
       "25%       8.000000    18.750000     3.000000     2.000000    10.000000   \n",
       "50%      16.000000    62.000000     9.000000    10.000000    18.000000   \n",
       "75%      24.000000   103.000000    19.000000    20.000000    27.000000   \n",
       "max      31.000000   180.000000    70.000000    50.000000    60.000000   \n",
       "\n",
       "             Total  \n",
       "count  5952.000000  \n",
       "mean    109.161458  \n",
       "std      55.996312  \n",
       "min      21.000000  \n",
       "25%      54.000000  \n",
       "50%     104.000000  \n",
       "75%     153.000000  \n",
       "max     279.000000  "
      ]
     },
     "execution_count": 8,
     "metadata": {},
     "output_type": "execute_result"
    }
   ],
   "source": [
    "df.describe()"
   ]
  },
  {
   "cell_type": "code",
   "execution_count": 13,
   "id": "9f44d6ac-5bea-44aa-80ee-3a4c35dbf441",
   "metadata": {},
   "outputs": [
    {
     "data": {
      "text/plain": [
       "<Axes: >"
      ]
     },
     "execution_count": 13,
     "metadata": {},
     "output_type": "execute_result"
    },
    {
     "data": {
      "image/png": "[encoded data removed]",
      "text/plain": [
       "<Figure size 640x480 with 1 Axes>"
      ]
     },
     "metadata": {},
     "output_type": "display_data"
    }
   ],
   "source": [
    "sns.boxplot(df_num[['BikeCount','BusCount','TruckCount']])"
   ]
  },
  {
   "cell_type": "code",
   "execution_count": 14,
   "id": "50f28d34-c805-44b1-bc0b-947f2ffd3d41",
   "metadata": {},
   "outputs": [
    {
     "data": {
      "text/html": [
       "<div>\n",
       "<style scoped>\n",
       "    .dataframe tbody tr th:only-of-type {\n",
       "        vertical-align: middle;\n",
       "    }\n",
       "\n",
       "    .dataframe tbody tr th {\n",
       "        vertical-align: top;\n",
       "    }\n",
       "\n",
       "    .dataframe thead th {\n",
       "        text-align: right;\n",
       "    }\n",
       "</style>\n",
       "<table border=\"1\" class=\"dataframe\">\n",
       "  <thead>\n",
       "    <tr style=\"text-align: right;\">\n",
       "      <th></th>\n",
       "      <th>Time</th>\n",
       "      <th>Date</th>\n",
       "      <th>Day of the week</th>\n",
       "      <th>CarCount</th>\n",
       "      <th>BikeCount</th>\n",
       "      <th>BusCount</th>\n",
       "      <th>TruckCount</th>\n",
       "      <th>Total</th>\n",
       "      <th>Traffic Situation</th>\n",
       "    </tr>\n",
       "  </thead>\n",
       "  <tbody>\n",
       "    <tr>\n",
       "      <th>3308</th>\n",
       "      <td>11:00:00 AM</td>\n",
       "      <td>13</td>\n",
       "      <td>Friday</td>\n",
       "      <td>169</td>\n",
       "      <td>70</td>\n",
       "      <td>20</td>\n",
       "      <td>3</td>\n",
       "      <td>262</td>\n",
       "      <td>heavy</td>\n",
       "    </tr>\n",
       "    <tr>\n",
       "      <th>3996</th>\n",
       "      <td>3:00:00 PM</td>\n",
       "      <td>20</td>\n",
       "      <td>Friday</td>\n",
       "      <td>140</td>\n",
       "      <td>70</td>\n",
       "      <td>23</td>\n",
       "      <td>4</td>\n",
       "      <td>237</td>\n",
       "      <td>heavy</td>\n",
       "    </tr>\n",
       "    <tr>\n",
       "      <th>5328</th>\n",
       "      <td>12:00:00 PM</td>\n",
       "      <td>3</td>\n",
       "      <td>Friday</td>\n",
       "      <td>148</td>\n",
       "      <td>70</td>\n",
       "      <td>15</td>\n",
       "      <td>0</td>\n",
       "      <td>233</td>\n",
       "      <td>heavy</td>\n",
       "    </tr>\n",
       "  </tbody>\n",
       "</table>\n",
       "</div>"
      ],
      "text/plain": [
       "             Time  Date Day of the week  CarCount  BikeCount  BusCount  \\\n",
       "3308  11:00:00 AM    13          Friday       169         70        20   \n",
       "3996   3:00:00 PM    20          Friday       140         70        23   \n",
       "5328  12:00:00 PM     3          Friday       148         70        15   \n",
       "\n",
       "      TruckCount  Total Traffic Situation  \n",
       "3308           3    262             heavy  \n",
       "3996           4    237             heavy  \n",
       "5328           0    233             heavy  "
      ]
     },
     "execution_count": 14,
     "metadata": {},
     "output_type": "execute_result"
    }
   ],
   "source": [
    "df[df['BikeCount']==max(df.BikeCount)]"
   ]
  },
  {
   "cell_type": "code",
   "execution_count": 18,
   "id": "d94f26cb-8b2d-4111-8810-3ddd7af1e5ef",
   "metadata": {},
   "outputs": [
    {
     "data": {
      "text/plain": [
       "0"
      ]
     },
     "execution_count": 18,
     "metadata": {},
     "output_type": "execute_result"
    }
   ],
   "source": [
    "df.duplicated().sum()"
   ]
  },
  {
   "cell_type": "code",
   "execution_count": 20,
   "id": "142689a6-1ba2-45c0-8e2c-42ac3cbbb31d",
   "metadata": {},
   "outputs": [],
   "source": [
    "lab=LabelEncoder()\n",
    "for col in df.columns:\n",
    "    if df[col].dtypes=='object':\n",
    "        df[col]=lab.fit_transform(df[col])"
   ]
  },
  {
   "cell_type": "code",
   "execution_count": 23,
   "id": "5d5d28d6-fe4f-4171-af4e-b53e3d69d277",
   "metadata": {},
   "outputs": [
    {
     "name": "stdout",
     "output_type": "stream",
     "text": [
      "df[Time] unique = 96\n",
      "df[Date] unique = 31\n",
      "df[Day of the week] unique = 7\n",
      "df[CarCount] unique = 173\n",
      "df[BikeCount] unique = 71\n",
      "df[BusCount] unique = 51\n",
      "df[TruckCount] unique = 59\n",
      "df[Total] unique = 239\n",
      "df[Traffic Situation] unique = 4\n"
     ]
    }
   ],
   "source": [
    "for col in df.columns:\n",
    "    print(f'df[{col}] unique = {df[col].nunique()}')"
   ]
  },
  {
   "cell_type": "code",
   "execution_count": 30,
   "id": "1f655e3b-7ec9-4491-b659-3320a5bba86a",
   "metadata": {},
   "outputs": [
    {
     "data": {
      "text/plain": [
       "3    3610\n",
       "0    1137\n",
       "2     834\n",
       "1     371\n",
       "Name: Traffic Situation, dtype: int64"
      ]
     },
     "execution_count": 30,
     "metadata": {},
     "output_type": "execute_result"
    }
   ],
   "source": [
    "df['Traffic Situation'].value_counts()"
   ]
  },
  {
   "cell_type": "code",
   "execution_count": 31,
   "id": "e5b3478d-88ec-404a-8152-6b7fc19fe4c5",
   "metadata": {},
   "outputs": [
    {
     "name": "stderr",
     "output_type": "stream",
     "text": [
      "/opt/anaconda3/lib/python3.11/site-packages/imblearn/over_sampling/_smote/base.py:345: FutureWarning: The parameter `n_jobs` has been deprecated in 0.10 and will be removed in 0.12. You can pass an nearest neighbors estimator where `n_jobs` is already set instead.\n",
      "  warnings.warn(\n"
     ]
    }
   ],
   "source": [
    "X,y=df.drop('Traffic Situation', axis=1), df['Traffic Situation']\n",
    "smote=SMOTE(sampling_strategy='auto', k_neighbors=5, n_jobs=-1)\n",
    "X_res, y_res=smote.fit_resample(X,y)"
   ]
  },
  {
   "cell_type": "code",
   "execution_count": 37,
   "id": "1bf149f1-646f-49cf-983a-a9f3c8c3d730",
   "metadata": {},
   "outputs": [
    {
     "name": "stdout",
     "output_type": "stream",
     "text": [
      "Count of classes in train_data: ([2707 2708 2707 2708])\n",
      "Count of classes in test_data: ([903 902 903 902])\n"
     ]
    }
   ],
   "source": [
    "X_train, X_test, y_train, y_test = train_test_split(X_res,y_res, test_size=0.25, stratify=y_res, random_state=42)\n",
    "print(f'Count of classes in train_data: ({np.bincount(y_train)})')\n",
    "print(f'Count of classes in test_data: ({np.bincount(y_test)})')"
   ]
  },
  {
   "cell_type": "code",
   "execution_count": 39,
   "id": "6d5b3f56-8869-47f7-9e31-0c1641fb9a98",
   "metadata": {},
   "outputs": [
    {
     "data": {
      "text/html": [
       "<style>#sk-container-id-1 {color: black;background-color: white;}#sk-container-id-1 pre{padding: 0;}#sk-container-id-1 div.sk-toggleable {background-color: white;}#sk-container-id-1 label.sk-toggleable__label {cursor: pointer;display: block;width: 100%;margin-bottom: 0;padding: 0.3em;box-sizing: border-box;text-align: center;}#sk-container-id-1 label.sk-toggleable__label-arrow:before {content: \"▸\";float: left;margin-right: 0.25em;color: #696969;}#sk-container-id-1 label.sk-toggleable__label-arrow:hover:before {color: black;}#sk-container-id-1 div.sk-estimator:hover label.sk-toggleable__label-arrow:before {color: black;}#sk-container-id-1 div.sk-toggleable__content {max-height: 0;max-width: 0;overflow: hidden;text-align: left;background-color: #f0f8ff;}#sk-container-id-1 div.sk-toggleable__content pre {margin: 0.2em;color: black;border-radius: 0.25em;background-color: #f0f8ff;}#sk-container-id-1 input.sk-toggleable__control:checked~div.sk-toggleable__content {max-height: 200px;max-width: 100%;overflow: auto;}#sk-container-id-1 input.sk-toggleable__control:checked~label.sk-toggleable__label-arrow:before {content: \"▾\";}#sk-container-id-1 div.sk-estimator input.sk-toggleable__control:checked~label.sk-toggleable__label {background-color: #d4ebff;}#sk-container-id-1 div.sk-label input.sk-toggleable__control:checked~label.sk-toggleable__label {background-color: #d4ebff;}#sk-container-id-1 input.sk-hidden--visually {border: 0;clip: rect(1px 1px 1px 1px);clip: rect(1px, 1px, 1px, 1px);height: 1px;margin: -1px;overflow: hidden;padding: 0;position: absolute;width: 1px;}#sk-container-id-1 div.sk-estimator {font-family: monospace;background-color: #f0f8ff;border: 1px dotted black;border-radius: 0.25em;box-sizing: border-box;margin-bottom: 0.5em;}#sk-container-id-1 div.sk-estimator:hover {background-color: #d4ebff;}#sk-container-id-1 div.sk-parallel-item::after {content: \"\";width: 100%;border-bottom: 1px solid gray;flex-grow: 1;}#sk-container-id-1 div.sk-label:hover label.sk-toggleable__label {background-color: #d4ebff;}#sk-container-id-1 div.sk-serial::before {content: \"\";position: absolute;border-left: 1px solid gray;box-sizing: border-box;top: 0;bottom: 0;left: 50%;z-index: 0;}#sk-container-id-1 div.sk-serial {display: flex;flex-direction: column;align-items: center;background-color: white;padding-right: 0.2em;padding-left: 0.2em;position: relative;}#sk-container-id-1 div.sk-item {position: relative;z-index: 1;}#sk-container-id-1 div.sk-parallel {display: flex;align-items: stretch;justify-content: center;background-color: white;position: relative;}#sk-container-id-1 div.sk-item::before, #sk-container-id-1 div.sk-parallel-item::before {content: \"\";position: absolute;border-left: 1px solid gray;box-sizing: border-box;top: 0;bottom: 0;left: 50%;z-index: -1;}#sk-container-id-1 div.sk-parallel-item {display: flex;flex-direction: column;z-index: 1;position: relative;background-color: white;}#sk-container-id-1 div.sk-parallel-item:first-child::after {align-self: flex-end;width: 50%;}#sk-container-id-1 div.sk-parallel-item:last-child::after {align-self: flex-start;width: 50%;}#sk-container-id-1 div.sk-parallel-item:only-child::after {width: 0;}#sk-container-id-1 div.sk-dashed-wrapped {border: 1px dashed gray;margin: 0 0.4em 0.5em 0.4em;box-sizing: border-box;padding-bottom: 0.4em;background-color: white;}#sk-container-id-1 div.sk-label label {font-family: monospace;font-weight: bold;display: inline-block;line-height: 1.2em;}#sk-container-id-1 div.sk-label-container {text-align: center;}#sk-container-id-1 div.sk-container {/* jupyter's `normalize.less` sets `[hidden] { display: none; }` but bootstrap.min.css set `[hidden] { display: none !important; }` so we also need the `!important` here to be able to override the default hidden behavior on the sphinx rendered scikit-learn.org. See: https://github.com/scikit-learn/scikit-learn/issues/21755 */display: inline-block !important;position: relative;}#sk-container-id-1 div.sk-text-repr-fallback {display: none;}</style><div id=\"sk-container-id-1\" class=\"sk-top-container\"><div class=\"sk-text-repr-fallback\"><pre>RandomForestClassifier()</pre><b>In a Jupyter environment, please rerun this cell to show the HTML representation or trust the notebook. <br />On GitHub, the HTML representation is unable to render, please try loading this page with nbviewer.org.</b></div><div class=\"sk-container\" hidden><div class=\"sk-item\"><div class=\"sk-estimator sk-toggleable\"><input class=\"sk-toggleable__control sk-hidden--visually\" id=\"sk-estimator-id-1\" type=\"checkbox\" checked><label for=\"sk-estimator-id-1\" class=\"sk-toggleable__label sk-toggleable__label-arrow\">RandomForestClassifier</label><div class=\"sk-toggleable__content\"><pre>RandomForestClassifier()</pre></div></div></div></div></div>"
      ],
      "text/plain": [
       "RandomForestClassifier()"
      ]
     },
     "execution_count": 39,
     "metadata": {},
     "output_type": "execute_result"
    }
   ],
   "source": [
    "clf_rnf=RandomForestClassifier()\n",
    "clf_rnf.fit(X_train,y_train)"
   ]
  },
  {
   "cell_type": "code",
   "execution_count": 41,
   "id": "40ef30f7-5170-430f-8459-4bd43b75047b",
   "metadata": {},
   "outputs": [
    {
     "name": "stdout",
     "output_type": "stream",
     "text": [
      "Accuracy is: 0.9975069252077562\n"
     ]
    },
    {
     "data": {
      "text/plain": [
       "<Axes: >"
      ]
     },
     "execution_count": 41,
     "metadata": {},
     "output_type": "execute_result"
    },
    {
     "data": {
      "image/png": "[encoded data removed]",
      "text/plain": [
       "<Figure size 640x480 with 2 Axes>"
      ]
     },
     "metadata": {},
     "output_type": "display_data"
    }
   ],
   "source": [
    "pred_rnf=clf_rnf.predict(X_test)\n",
    "print(f'Accuracy is: {accuracy_score(y_test,pred_rnf)}')\n",
    "sns.heatmap(confusion_matrix(y_test,pred_rnf), annot=True, fmt='d', cmap='coolwarm')"
   ]
  },
  {
   "cell_type": "code",
   "execution_count": 44,
   "id": "347bf8b3-58be-4a0d-9343-2b2858325ab7",
   "metadata": {},
   "outputs": [],
   "source": [
    "X_res['Target']=y_res\n",
    "X_train_reg, X_test_reg, y_train_reg, y_test_reg = train_test_split(X_res.drop(['CarCount','Total'], axis=1), \n",
    "                                                                    X_res.CarCount, test_size=0.25, random_state=42)"
   ]
  },
  {
   "cell_type": "code",
   "execution_count": 47,
   "id": "6e0705ac-8898-43f2-8b32-8816b29ca413",
   "metadata": {},
   "outputs": [
    {
     "data": {
      "text/html": [
       "<style>#sk-container-id-2 {color: black;background-color: white;}#sk-container-id-2 pre{padding: 0;}#sk-container-id-2 div.sk-toggleable {background-color: white;}#sk-container-id-2 label.sk-toggleable__label {cursor: pointer;display: block;width: 100%;margin-bottom: 0;padding: 0.3em;box-sizing: border-box;text-align: center;}#sk-container-id-2 label.sk-toggleable__label-arrow:before {content: \"▸\";float: left;margin-right: 0.25em;color: #696969;}#sk-container-id-2 label.sk-toggleable__label-arrow:hover:before {color: black;}#sk-container-id-2 div.sk-estimator:hover label.sk-toggleable__label-arrow:before {color: black;}#sk-container-id-2 div.sk-toggleable__content {max-height: 0;max-width: 0;overflow: hidden;text-align: left;background-color: #f0f8ff;}#sk-container-id-2 div.sk-toggleable__content pre {margin: 0.2em;color: black;border-radius: 0.25em;background-color: #f0f8ff;}#sk-container-id-2 input.sk-toggleable__control:checked~div.sk-toggleable__content {max-height: 200px;max-width: 100%;overflow: auto;}#sk-container-id-2 input.sk-toggleable__control:checked~label.sk-toggleable__label-arrow:before {content: \"▾\";}#sk-container-id-2 div.sk-estimator input.sk-toggleable__control:checked~label.sk-toggleable__label {background-color: #d4ebff;}#sk-container-id-2 div.sk-label input.sk-toggleable__control:checked~label.sk-toggleable__label {background-color: #d4ebff;}#sk-container-id-2 input.sk-hidden--visually {border: 0;clip: rect(1px 1px 1px 1px);clip: rect(1px, 1px, 1px, 1px);height: 1px;margin: -1px;overflow: hidden;padding: 0;position: absolute;width: 1px;}#sk-container-id-2 div.sk-estimator {font-family: monospace;background-color: #f0f8ff;border: 1px dotted black;border-radius: 0.25em;box-sizing: border-box;margin-bottom: 0.5em;}#sk-container-id-2 div.sk-estimator:hover {background-color: #d4ebff;}#sk-container-id-2 div.sk-parallel-item::after {content: \"\";width: 100%;border-bottom: 1px solid gray;flex-grow: 1;}#sk-container-id-2 div.sk-label:hover label.sk-toggleable__label {background-color: #d4ebff;}#sk-container-id-2 div.sk-serial::before {content: \"\";position: absolute;border-left: 1px solid gray;box-sizing: border-box;top: 0;bottom: 0;left: 50%;z-index: 0;}#sk-container-id-2 div.sk-serial {display: flex;flex-direction: column;align-items: center;background-color: white;padding-right: 0.2em;padding-left: 0.2em;position: relative;}#sk-container-id-2 div.sk-item {position: relative;z-index: 1;}#sk-container-id-2 div.sk-parallel {display: flex;align-items: stretch;justify-content: center;background-color: white;position: relative;}#sk-container-id-2 div.sk-item::before, #sk-container-id-2 div.sk-parallel-item::before {content: \"\";position: absolute;border-left: 1px solid gray;box-sizing: border-box;top: 0;bottom: 0;left: 50%;z-index: -1;}#sk-container-id-2 div.sk-parallel-item {display: flex;flex-direction: column;z-index: 1;position: relative;background-color: white;}#sk-container-id-2 div.sk-parallel-item:first-child::after {align-self: flex-end;width: 50%;}#sk-container-id-2 div.sk-parallel-item:last-child::after {align-self: flex-start;width: 50%;}#sk-container-id-2 div.sk-parallel-item:only-child::after {width: 0;}#sk-container-id-2 div.sk-dashed-wrapped {border: 1px dashed gray;margin: 0 0.4em 0.5em 0.4em;box-sizing: border-box;padding-bottom: 0.4em;background-color: white;}#sk-container-id-2 div.sk-label label {font-family: monospace;font-weight: bold;display: inline-block;line-height: 1.2em;}#sk-container-id-2 div.sk-label-container {text-align: center;}#sk-container-id-2 div.sk-container {/* jupyter's `normalize.less` sets `[hidden] { display: none; }` but bootstrap.min.css set `[hidden] { display: none !important; }` so we also need the `!important` here to be able to override the default hidden behavior on the sphinx rendered scikit-learn.org. See: https://github.com/scikit-learn/scikit-learn/issues/21755 */display: inline-block !important;position: relative;}#sk-container-id-2 div.sk-text-repr-fallback {display: none;}</style><div id=\"sk-container-id-2\" class=\"sk-top-container\"><div class=\"sk-text-repr-fallback\"><pre>BaggingRegressor()</pre><b>In a Jupyter environment, please rerun this cell to show the HTML representation or trust the notebook. <br />On GitHub, the HTML representation is unable to render, please try loading this page with nbviewer.org.</b></div><div class=\"sk-container\" hidden><div class=\"sk-item\"><div class=\"sk-estimator sk-toggleable\"><input class=\"sk-toggleable__control sk-hidden--visually\" id=\"sk-estimator-id-2\" type=\"checkbox\" checked><label for=\"sk-estimator-id-2\" class=\"sk-toggleable__label sk-toggleable__label-arrow\">BaggingRegressor</label><div class=\"sk-toggleable__content\"><pre>BaggingRegressor()</pre></div></div></div></div></div>"
      ],
      "text/plain": [
       "BaggingRegressor()"
      ]
     },
     "execution_count": 47,
     "metadata": {},
     "output_type": "execute_result"
    }
   ],
   "source": [
    "bag_reg=BaggingRegressor()\n",
    "bag_reg.fit(X_train_reg,y_train_reg)"
   ]
  },
  {
   "cell_type": "code",
   "execution_count": 49,
   "id": "afc9e170-bdd7-48e5-b1cf-71b59dec0004",
   "metadata": {},
   "outputs": [
    {
     "name": "stdout",
     "output_type": "stream",
     "text": [
      "MAE is: 6.42670412874291\n"
     ]
    }
   ],
   "source": [
    "pred_reg=bag_reg.predict(X_test_reg)\n",
    "print(f'MAE is: {mean_absolute_error(y_test_reg, pred_reg)}')"
   ]
  },
  {
   "cell_type": "code",
   "execution_count": 55,
   "id": "78a5c49e-ae3d-4df3-ba59-dce87bcc88a4",
   "metadata": {},
   "outputs": [],
   "source": [
    "def objective(trial):\n",
    "    params={\n",
    "        'n_estimators':trial.suggest_int('n_estimators', 10, 100),\n",
    "        'max_samples':trial.suggest_int('max_samples', 1,10),\n",
    "        'max_features':trial.suggest_int('max_features', 1,3)\n",
    "    }\n",
    "\n",
    "    cv=StratifiedKFold(n_splits=10, shuffle=True, random_state=42)\n",
    "    model=BaggingRegressor(**params, n_jobs=-1)\n",
    "    cross_val=cross_val_score(model,X_res.drop(['CarCount','Total'], axis=1),X_res.CarCount, cv=cv, scoring='neg_mean_absolute_error')\n",
    "    return np.mean(cross_val)\n",
    "\n",
    "    "
   ]
  },
  {
   "cell_type": "code",
   "execution_count": 57,
   "id": "dbf22595-21d3-4b24-873e-831ff390f64b",
   "metadata": {},
   "outputs": [
    {
     "name": "stderr",
     "output_type": "stream",
     "text": [
      "[I 2024-09-29 20:51:47,865] A new study created in memory with name: bag_regressor\n",
      "/opt/anaconda3/lib/python3.11/site-packages/sklearn/model_selection/_split.py:700: UserWarning: The least populated class in y has only 1 members, which is less than n_splits=10.\n",
      "  warnings.warn(\n",
      "[I 2024-09-29 20:51:48,137] Trial 0 finished with value: -21.03208495970788 and parameters: {'n_estimators': 88, 'max_samples': 8, 'max_features': 3}. Best is trial 0 with value: -21.03208495970788.\n",
      "/opt/anaconda3/lib/python3.11/site-packages/sklearn/model_selection/_split.py:700: UserWarning: The least populated class in y has only 1 members, which is less than n_splits=10.\n",
      "  warnings.warn(\n",
      "[I 2024-09-29 20:51:48,377] Trial 1 finished with value: -31.542036011080334 and parameters: {'n_estimators': 86, 'max_samples': 2, 'max_features': 3}. Best is trial 1 with value: -31.542036011080334.\n",
      "/opt/anaconda3/lib/python3.11/site-packages/sklearn/model_selection/_split.py:700: UserWarning: The least populated class in y has only 1 members, which is less than n_splits=10.\n",
      "  warnings.warn(\n",
      "[I 2024-09-29 20:51:48,582] Trial 2 finished with value: -20.61543956845021 and parameters: {'n_estimators': 57, 'max_samples': 9, 'max_features': 3}. Best is trial 1 with value: -31.542036011080334.\n",
      "/opt/anaconda3/lib/python3.11/site-packages/sklearn/model_selection/_split.py:700: UserWarning: The least populated class in y has only 1 members, which is less than n_splits=10.\n",
      "  warnings.warn(\n",
      "[I 2024-09-29 20:51:48,740] Trial 3 finished with value: -27.483276649225406 and parameters: {'n_estimators': 27, 'max_samples': 8, 'max_features': 1}. Best is trial 1 with value: -31.542036011080334.\n",
      "/opt/anaconda3/lib/python3.11/site-packages/sklearn/model_selection/_split.py:700: UserWarning: The least populated class in y has only 1 members, which is less than n_splits=10.\n",
      "  warnings.warn(\n",
      "[I 2024-09-29 20:51:48,966] Trial 4 finished with value: -35.96426775040093 and parameters: {'n_estimators': 76, 'max_samples': 1, 'max_features': 2}. Best is trial 4 with value: -35.96426775040093.\n",
      "/opt/anaconda3/lib/python3.11/site-packages/sklearn/model_selection/_split.py:700: UserWarning: The least populated class in y has only 1 members, which is less than n_splits=10.\n",
      "  warnings.warn(\n",
      "[I 2024-09-29 20:51:49,119] Trial 5 finished with value: -22.735775623268697 and parameters: {'n_estimators': 25, 'max_samples': 7, 'max_features': 3}. Best is trial 4 with value: -35.96426775040093.\n",
      "/opt/anaconda3/lib/python3.11/site-packages/sklearn/model_selection/_split.py:700: UserWarning: The least populated class in y has only 1 members, which is less than n_splits=10.\n",
      "  warnings.warn(\n",
      "[I 2024-09-29 20:51:49,350] Trial 6 finished with value: -22.95570092995647 and parameters: {'n_estimators': 84, 'max_samples': 8, 'max_features': 2}. Best is trial 4 with value: -35.96426775040093.\n",
      "/opt/anaconda3/lib/python3.11/site-packages/sklearn/model_selection/_split.py:700: UserWarning: The least populated class in y has only 1 members, which is less than n_splits=10.\n",
      "  warnings.warn(\n",
      "[I 2024-09-29 20:51:49,521] Trial 7 finished with value: -23.799927285318557 and parameters: {'n_estimators': 40, 'max_samples': 7, 'max_features': 2}. Best is trial 4 with value: -35.96426775040093.\n",
      "/opt/anaconda3/lib/python3.11/site-packages/sklearn/model_selection/_split.py:700: UserWarning: The least populated class in y has only 1 members, which is less than n_splits=10.\n",
      "  warnings.warn(\n",
      "[I 2024-09-29 20:51:49,686] Trial 8 finished with value: -23.302950076114893 and parameters: {'n_estimators': 37, 'max_samples': 7, 'max_features': 2}. Best is trial 4 with value: -35.96426775040093.\n",
      "/opt/anaconda3/lib/python3.11/site-packages/sklearn/model_selection/_split.py:700: UserWarning: The least populated class in y has only 1 members, which is less than n_splits=10.\n",
      "  warnings.warn(\n",
      "[I 2024-09-29 20:51:49,885] Trial 9 finished with value: -21.354107432185227 and parameters: {'n_estimators': 53, 'max_samples': 8, 'max_features': 3}. Best is trial 4 with value: -35.96426775040093.\n",
      "/opt/anaconda3/lib/python3.11/site-packages/sklearn/model_selection/_split.py:700: UserWarning: The least populated class in y has only 1 members, which is less than n_splits=10.\n",
      "  warnings.warn(\n",
      "[I 2024-09-29 20:51:50,108] Trial 10 finished with value: -35.79807479224377 and parameters: {'n_estimators': 70, 'max_samples': 1, 'max_features': 1}. Best is trial 4 with value: -35.96426775040093.\n",
      "/opt/anaconda3/lib/python3.11/site-packages/sklearn/model_selection/_split.py:700: UserWarning: The least populated class in y has only 1 members, which is less than n_splits=10.\n",
      "  warnings.warn(\n",
      "[I 2024-09-29 20:51:50,337] Trial 11 finished with value: -35.834281815219164 and parameters: {'n_estimators': 68, 'max_samples': 1, 'max_features': 1}. Best is trial 4 with value: -35.96426775040093.\n",
      "/opt/anaconda3/lib/python3.11/site-packages/sklearn/model_selection/_split.py:700: UserWarning: The least populated class in y has only 1 members, which is less than n_splits=10.\n",
      "  warnings.warn(\n",
      "[I 2024-09-29 20:51:50,583] Trial 12 finished with value: -29.58160972606956 and parameters: {'n_estimators': 72, 'max_samples': 3, 'max_features': 1}. Best is trial 4 with value: -35.96426775040093.\n",
      "/opt/anaconda3/lib/python3.11/site-packages/sklearn/model_selection/_split.py:700: UserWarning: The least populated class in y has only 1 members, which is less than n_splits=10.\n",
      "  warnings.warn(\n",
      "[I 2024-09-29 20:51:50,811] Trial 13 finished with value: -28.63668453169537 and parameters: {'n_estimators': 69, 'max_samples': 4, 'max_features': 1}. Best is trial 4 with value: -35.96426775040093.\n",
      "/opt/anaconda3/lib/python3.11/site-packages/sklearn/model_selection/_split.py:700: UserWarning: The least populated class in y has only 1 members, which is less than n_splits=10.\n",
      "  warnings.warn(\n",
      "[I 2024-09-29 20:51:51,072] Trial 14 finished with value: -36.04175973173932 and parameters: {'n_estimators': 95, 'max_samples': 1, 'max_features': 2}. Best is trial 14 with value: -36.04175973173932.\n",
      "/opt/anaconda3/lib/python3.11/site-packages/sklearn/model_selection/_split.py:700: UserWarning: The least populated class in y has only 1 members, which is less than n_splits=10.\n",
      "  warnings.warn(\n",
      "[I 2024-09-29 20:51:51,358] Trial 15 finished with value: -26.165012811634348 and parameters: {'n_estimators': 100, 'max_samples': 4, 'max_features': 2}. Best is trial 14 with value: -36.04175973173932.\n",
      "/opt/anaconda3/lib/python3.11/site-packages/sklearn/model_selection/_split.py:700: UserWarning: The least populated class in y has only 1 members, which is less than n_splits=10.\n",
      "  warnings.warn(\n",
      "[I 2024-09-29 20:51:51,624] Trial 16 finished with value: -25.211633299756567 and parameters: {'n_estimators': 99, 'max_samples': 5, 'max_features': 2}. Best is trial 14 with value: -36.04175973173932.\n",
      "/opt/anaconda3/lib/python3.11/site-packages/sklearn/model_selection/_split.py:700: UserWarning: The least populated class in y has only 1 members, which is less than n_splits=10.\n",
      "  warnings.warn(\n",
      "[I 2024-09-29 20:51:51,873] Trial 17 finished with value: -31.489825138504152 and parameters: {'n_estimators': 80, 'max_samples': 2, 'max_features': 2}. Best is trial 14 with value: -36.04175973173932.\n",
      "/opt/anaconda3/lib/python3.11/site-packages/sklearn/model_selection/_split.py:700: UserWarning: The least populated class in y has only 1 members, which is less than n_splits=10.\n",
      "  warnings.warn(\n",
      "[I 2024-09-29 20:51:52,074] Trial 18 finished with value: -30.873962433785294 and parameters: {'n_estimators': 57, 'max_samples': 2, 'max_features': 2}. Best is trial 14 with value: -36.04175973173932.\n",
      "/opt/anaconda3/lib/python3.11/site-packages/sklearn/model_selection/_split.py:700: UserWarning: The least populated class in y has only 1 members, which is less than n_splits=10.\n",
      "  warnings.warn(\n",
      "[I 2024-09-29 20:51:52,328] Trial 19 finished with value: -28.74104265332261 and parameters: {'n_estimators': 93, 'max_samples': 3, 'max_features': 2}. Best is trial 14 with value: -36.04175973173932.\n",
      "/opt/anaconda3/lib/python3.11/site-packages/sklearn/model_selection/_split.py:700: UserWarning: The least populated class in y has only 1 members, which is less than n_splits=10.\n",
      "  warnings.warn(\n",
      "[I 2024-09-29 20:51:52,563] Trial 20 finished with value: -35.77653669483502 and parameters: {'n_estimators': 79, 'max_samples': 1, 'max_features': 2}. Best is trial 14 with value: -36.04175973173932.\n",
      "/opt/anaconda3/lib/python3.11/site-packages/sklearn/model_selection/_split.py:700: UserWarning: The least populated class in y has only 1 members, which is less than n_splits=10.\n",
      "  warnings.warn(\n",
      "[I 2024-09-29 20:51:52,717] Trial 21 finished with value: -36.00010387811634 and parameters: {'n_estimators': 12, 'max_samples': 1, 'max_features': 1}. Best is trial 14 with value: -36.04175973173932.\n",
      "/opt/anaconda3/lib/python3.11/site-packages/sklearn/model_selection/_split.py:700: UserWarning: The least populated class in y has only 1 members, which is less than n_splits=10.\n",
      "  warnings.warn(\n",
      "[I 2024-09-29 20:51:52,875] Trial 22 finished with value: -29.88186914655059 and parameters: {'n_estimators': 14, 'max_samples': 3, 'max_features': 1}. Best is trial 14 with value: -36.04175973173932.\n",
      "/opt/anaconda3/lib/python3.11/site-packages/sklearn/model_selection/_split.py:700: UserWarning: The least populated class in y has only 1 members, which is less than n_splits=10.\n",
      "  warnings.warn(\n",
      "[I 2024-09-29 20:51:53,073] Trial 23 finished with value: -36.54539858417974 and parameters: {'n_estimators': 45, 'max_samples': 1, 'max_features': 1}. Best is trial 23 with value: -36.54539858417974.\n",
      "/opt/anaconda3/lib/python3.11/site-packages/sklearn/model_selection/_split.py:700: UserWarning: The least populated class in y has only 1 members, which is less than n_splits=10.\n",
      "  warnings.warn(\n",
      "[I 2024-09-29 20:51:53,218] Trial 24 finished with value: -34.006811886174766 and parameters: {'n_estimators': 11, 'max_samples': 2, 'max_features': 1}. Best is trial 23 with value: -36.54539858417974.\n"
     ]
    }
   ],
   "source": [
    "study=optuna.create_study(study_name='bag_regressor')\n",
    "study.optimize(objective, n_trials=25)"
   ]
  },
  {
   "cell_type": "markdown",
   "id": "0bfe4294-8065-4ac6-aa52-29bc9f2bbb62",
   "metadata": {},
   "source": [
    "# MBA dataset"
   ]
  },
  {
   "cell_type": "code",
   "execution_count": 121,
   "id": "03472c60-e4f8-4d8d-8196-ea2d640673cc",
   "metadata": {},
   "outputs": [
    {
     "data": {
      "text/html": [
       "<div>\n",
       "<style scoped>\n",
       "    .dataframe tbody tr th:only-of-type {\n",
       "        vertical-align: middle;\n",
       "    }\n",
       "\n",
       "    .dataframe tbody tr th {\n",
       "        vertical-align: top;\n",
       "    }\n",
       "\n",
       "    .dataframe thead th {\n",
       "        text-align: right;\n",
       "    }\n",
       "</style>\n",
       "<table border=\"1\" class=\"dataframe\">\n",
       "  <thead>\n",
       "    <tr style=\"text-align: right;\">\n",
       "      <th></th>\n",
       "      <th>application_id</th>\n",
       "      <th>gender</th>\n",
       "      <th>international</th>\n",
       "      <th>gpa</th>\n",
       "      <th>major</th>\n",
       "      <th>race</th>\n",
       "      <th>gmat</th>\n",
       "      <th>work_exp</th>\n",
       "      <th>work_industry</th>\n",
       "      <th>admission</th>\n",
       "    </tr>\n",
       "  </thead>\n",
       "  <tbody>\n",
       "    <tr>\n",
       "      <th>0</th>\n",
       "      <td>1</td>\n",
       "      <td>Female</td>\n",
       "      <td>False</td>\n",
       "      <td>3.30</td>\n",
       "      <td>Business</td>\n",
       "      <td>Asian</td>\n",
       "      <td>620.0</td>\n",
       "      <td>3.0</td>\n",
       "      <td>Financial Services</td>\n",
       "      <td>Admit</td>\n",
       "    </tr>\n",
       "    <tr>\n",
       "      <th>1</th>\n",
       "      <td>2</td>\n",
       "      <td>Male</td>\n",
       "      <td>False</td>\n",
       "      <td>3.28</td>\n",
       "      <td>Humanities</td>\n",
       "      <td>Black</td>\n",
       "      <td>680.0</td>\n",
       "      <td>5.0</td>\n",
       "      <td>Investment Management</td>\n",
       "      <td>NaN</td>\n",
       "    </tr>\n",
       "    <tr>\n",
       "      <th>2</th>\n",
       "      <td>3</td>\n",
       "      <td>Female</td>\n",
       "      <td>True</td>\n",
       "      <td>3.30</td>\n",
       "      <td>Business</td>\n",
       "      <td>NaN</td>\n",
       "      <td>710.0</td>\n",
       "      <td>5.0</td>\n",
       "      <td>Technology</td>\n",
       "      <td>Admit</td>\n",
       "    </tr>\n",
       "    <tr>\n",
       "      <th>3</th>\n",
       "      <td>4</td>\n",
       "      <td>Male</td>\n",
       "      <td>False</td>\n",
       "      <td>3.47</td>\n",
       "      <td>STEM</td>\n",
       "      <td>Black</td>\n",
       "      <td>690.0</td>\n",
       "      <td>6.0</td>\n",
       "      <td>Technology</td>\n",
       "      <td>NaN</td>\n",
       "    </tr>\n",
       "    <tr>\n",
       "      <th>4</th>\n",
       "      <td>5</td>\n",
       "      <td>Male</td>\n",
       "      <td>False</td>\n",
       "      <td>3.35</td>\n",
       "      <td>STEM</td>\n",
       "      <td>Hispanic</td>\n",
       "      <td>590.0</td>\n",
       "      <td>5.0</td>\n",
       "      <td>Consulting</td>\n",
       "      <td>NaN</td>\n",
       "    </tr>\n",
       "    <tr>\n",
       "      <th>...</th>\n",
       "      <td>...</td>\n",
       "      <td>...</td>\n",
       "      <td>...</td>\n",
       "      <td>...</td>\n",
       "      <td>...</td>\n",
       "      <td>...</td>\n",
       "      <td>...</td>\n",
       "      <td>...</td>\n",
       "      <td>...</td>\n",
       "      <td>...</td>\n",
       "    </tr>\n",
       "    <tr>\n",
       "      <th>6189</th>\n",
       "      <td>6190</td>\n",
       "      <td>Male</td>\n",
       "      <td>False</td>\n",
       "      <td>3.49</td>\n",
       "      <td>Business</td>\n",
       "      <td>White</td>\n",
       "      <td>640.0</td>\n",
       "      <td>5.0</td>\n",
       "      <td>Other</td>\n",
       "      <td>NaN</td>\n",
       "    </tr>\n",
       "    <tr>\n",
       "      <th>6190</th>\n",
       "      <td>6191</td>\n",
       "      <td>Male</td>\n",
       "      <td>False</td>\n",
       "      <td>3.18</td>\n",
       "      <td>STEM</td>\n",
       "      <td>Black</td>\n",
       "      <td>670.0</td>\n",
       "      <td>4.0</td>\n",
       "      <td>Consulting</td>\n",
       "      <td>NaN</td>\n",
       "    </tr>\n",
       "    <tr>\n",
       "      <th>6191</th>\n",
       "      <td>6192</td>\n",
       "      <td>Female</td>\n",
       "      <td>True</td>\n",
       "      <td>3.22</td>\n",
       "      <td>Business</td>\n",
       "      <td>NaN</td>\n",
       "      <td>680.0</td>\n",
       "      <td>5.0</td>\n",
       "      <td>Health Care</td>\n",
       "      <td>Admit</td>\n",
       "    </tr>\n",
       "    <tr>\n",
       "      <th>6192</th>\n",
       "      <td>6193</td>\n",
       "      <td>Male</td>\n",
       "      <td>True</td>\n",
       "      <td>3.36</td>\n",
       "      <td>Business</td>\n",
       "      <td>NaN</td>\n",
       "      <td>590.0</td>\n",
       "      <td>5.0</td>\n",
       "      <td>Other</td>\n",
       "      <td>NaN</td>\n",
       "    </tr>\n",
       "    <tr>\n",
       "      <th>6193</th>\n",
       "      <td>6194</td>\n",
       "      <td>Male</td>\n",
       "      <td>False</td>\n",
       "      <td>3.23</td>\n",
       "      <td>STEM</td>\n",
       "      <td>Hispanic</td>\n",
       "      <td>650.0</td>\n",
       "      <td>4.0</td>\n",
       "      <td>Consulting</td>\n",
       "      <td>NaN</td>\n",
       "    </tr>\n",
       "  </tbody>\n",
       "</table>\n",
       "<p>6194 rows × 10 columns</p>\n",
       "</div>"
      ],
      "text/plain": [
       "      application_id  gender  international   gpa       major      race  \\\n",
       "0                  1  Female          False  3.30    Business     Asian   \n",
       "1                  2    Male          False  3.28  Humanities     Black   \n",
       "2                  3  Female           True  3.30    Business       NaN   \n",
       "3                  4    Male          False  3.47        STEM     Black   \n",
       "4                  5    Male          False  3.35        STEM  Hispanic   \n",
       "...              ...     ...            ...   ...         ...       ...   \n",
       "6189            6190    Male          False  3.49    Business     White   \n",
       "6190            6191    Male          False  3.18        STEM     Black   \n",
       "6191            6192  Female           True  3.22    Business       NaN   \n",
       "6192            6193    Male           True  3.36    Business       NaN   \n",
       "6193            6194    Male          False  3.23        STEM  Hispanic   \n",
       "\n",
       "       gmat  work_exp          work_industry admission  \n",
       "0     620.0       3.0     Financial Services     Admit  \n",
       "1     680.0       5.0  Investment Management       NaN  \n",
       "2     710.0       5.0             Technology     Admit  \n",
       "3     690.0       6.0             Technology       NaN  \n",
       "4     590.0       5.0             Consulting       NaN  \n",
       "...     ...       ...                    ...       ...  \n",
       "6189  640.0       5.0                  Other       NaN  \n",
       "6190  670.0       4.0             Consulting       NaN  \n",
       "6191  680.0       5.0            Health Care     Admit  \n",
       "6192  590.0       5.0                  Other       NaN  \n",
       "6193  650.0       4.0             Consulting       NaN  \n",
       "\n",
       "[6194 rows x 10 columns]"
      ]
     },
     "execution_count": 121,
     "metadata": {},
     "output_type": "execute_result"
    }
   ],
   "source": [
    "df_mba=pd.read_csv('/Users/maksimtrebusinin/Downloads/MBA.csv')\n",
    "df_mba"
   ]
  },
  {
   "cell_type": "code",
   "execution_count": 122,
   "id": "06771f9f-0df3-4d82-8a5a-45c0eb4bd7e5",
   "metadata": {},
   "outputs": [
    {
     "data": {
      "text/plain": [
       "application_id       0\n",
       "gender               0\n",
       "international        0\n",
       "gpa                  0\n",
       "major                0\n",
       "race              1842\n",
       "gmat                 0\n",
       "work_exp             0\n",
       "work_industry        0\n",
       "admission         5194\n",
       "dtype: int64"
      ]
     },
     "execution_count": 122,
     "metadata": {},
     "output_type": "execute_result"
    }
   ],
   "source": [
    "df_mba.isna().sum()"
   ]
  },
  {
   "cell_type": "code",
   "execution_count": 123,
   "id": "2ed635cc-06cc-4469-9150-e00300fc08a7",
   "metadata": {},
   "outputs": [
    {
     "name": "stdout",
     "output_type": "stream",
     "text": [
      "<class 'pandas.core.frame.DataFrame'>\n",
      "RangeIndex: 6194 entries, 0 to 6193\n",
      "Data columns (total 10 columns):\n",
      " #   Column          Non-Null Count  Dtype  \n",
      "---  ------          --------------  -----  \n",
      " 0   application_id  6194 non-null   int64  \n",
      " 1   gender          6194 non-null   object \n",
      " 2   international   6194 non-null   bool   \n",
      " 3   gpa             6194 non-null   float64\n",
      " 4   major           6194 non-null   object \n",
      " 5   race            4352 non-null   object \n",
      " 6   gmat            6194 non-null   float64\n",
      " 7   work_exp        6194 non-null   float64\n",
      " 8   work_industry   6194 non-null   object \n",
      " 9   admission       1000 non-null   object \n",
      "dtypes: bool(1), float64(3), int64(1), object(5)\n",
      "memory usage: 441.7+ KB\n"
     ]
    }
   ],
   "source": [
    "df_mba.info()"
   ]
  },
  {
   "cell_type": "code",
   "execution_count": 124,
   "id": "56adc793-115b-4356-b3b0-87dbdf5bcaa8",
   "metadata": {},
   "outputs": [
    {
     "name": "stdout",
     "output_type": "stream",
     "text": [
      "df_mba[application_id] unique values: 6194\n",
      "df_mba[gender] unique values: 2\n",
      "df_mba[international] unique values: 2\n",
      "df_mba[gpa] unique values: 101\n",
      "df_mba[major] unique values: 3\n",
      "df_mba[race] unique values: 5\n",
      "df_mba[gmat] unique values: 22\n",
      "df_mba[work_exp] unique values: 9\n",
      "df_mba[work_industry] unique values: 14\n",
      "df_mba[admission] unique values: 2\n"
     ]
    }
   ],
   "source": [
    "for col in df_mba.columns:\n",
    "    print(f'df_mba[{col}] unique values: {df_mba[col].nunique()}')"
   ]
  },
  {
   "cell_type": "code",
   "execution_count": 125,
   "id": "a859e714-7195-43f4-b7a1-5c18619c6593",
   "metadata": {},
   "outputs": [],
   "source": [
    "df_mba.drop('application_id', axis=1, inplace=True)"
   ]
  },
  {
   "cell_type": "code",
   "execution_count": 126,
   "id": "11ac1cf0-4112-44f7-8833-185ee6e1bd49",
   "metadata": {},
   "outputs": [
    {
     "data": {
      "text/plain": [
       "30"
      ]
     },
     "execution_count": 126,
     "metadata": {},
     "output_type": "execute_result"
    }
   ],
   "source": [
    "df_mba.duplicated().sum()"
   ]
  },
  {
   "cell_type": "code",
   "execution_count": 127,
   "id": "c4916f59-9073-4a32-88a0-4db9997cc12a",
   "metadata": {},
   "outputs": [],
   "source": [
    "df_mba.drop_duplicates(inplace=True)"
   ]
  },
  {
   "cell_type": "code",
   "execution_count": 128,
   "id": "fd891a48-de15-4521-94be-18b85d9df213",
   "metadata": {},
   "outputs": [
    {
     "data": {
      "text/plain": [
       "0"
      ]
     },
     "execution_count": 128,
     "metadata": {},
     "output_type": "execute_result"
    }
   ],
   "source": [
    "df_mba.duplicated().sum()"
   ]
  },
  {
   "cell_type": "code",
   "execution_count": 129,
   "id": "fafe8461-a20b-4a46-89b6-becc69d473b1",
   "metadata": {},
   "outputs": [
    {
     "data": {
      "text/plain": [
       "<Axes: >"
      ]
     },
     "execution_count": 129,
     "metadata": {},
     "output_type": "execute_result"
    },
    {
     "data": {
      "image/png": "[encoded data removed]",
      "text/plain": [
       "<Figure size 640x480 with 2 Axes>"
      ]
     },
     "metadata": {},
     "output_type": "display_data"
    }
   ],
   "source": [
    "df_mba_num=df_mba.select_dtypes(['int','float'])\n",
    "sns.heatmap(abs(df_mba_num.corr()), annot=True, fmt='.2f', cmap='coolwarm')"
   ]
  },
  {
   "cell_type": "code",
   "execution_count": 130,
   "id": "7d38a0cc-f4cc-4484-83b4-26dd92ae5605",
   "metadata": {},
   "outputs": [
    {
     "data": {
      "text/plain": [
       "White       1452\n",
       "Asian       1143\n",
       "Black        909\n",
       "Hispanic     596\n",
       "Other        236\n",
       "Name: race, dtype: int64"
      ]
     },
     "execution_count": 130,
     "metadata": {},
     "output_type": "execute_result"
    }
   ],
   "source": [
    "df_mba.race.value_counts()"
   ]
  },
  {
   "cell_type": "code",
   "execution_count": 131,
   "id": "fd502f7f-064a-4b96-bd1d-2bdfbfe07075",
   "metadata": {},
   "outputs": [
    {
     "data": {
      "text/plain": [
       "Admit       899\n",
       "Waitlist    100\n",
       "Name: admission, dtype: int64"
      ]
     },
     "execution_count": 131,
     "metadata": {},
     "output_type": "execute_result"
    }
   ],
   "source": [
    "df_mba[df_mba['admission'].isna()==False].admission.value_counts()"
   ]
  },
  {
   "cell_type": "code",
   "execution_count": 132,
   "id": "4f6d852f-39f9-41fa-b536-337781db0ad6",
   "metadata": {},
   "outputs": [
    {
     "data": {
      "text/plain": [
       "gender              0\n",
       "international       0\n",
       "gpa                 0\n",
       "major               0\n",
       "race                0\n",
       "gmat                0\n",
       "work_exp            0\n",
       "work_industry       0\n",
       "admission        5165\n",
       "dtype: int64"
      ]
     },
     "execution_count": 132,
     "metadata": {},
     "output_type": "execute_result"
    }
   ],
   "source": [
    "df_mba.race.fillna('White', inplace=True)\n",
    "df_mba.isna().sum()"
   ]
  },
  {
   "cell_type": "code",
   "execution_count": 133,
   "id": "c97e19c2-b17c-4463-b8de-7e4d5828ee95",
   "metadata": {},
   "outputs": [
    {
     "data": {
      "text/plain": [
       "<Axes: >"
      ]
     },
     "execution_count": 133,
     "metadata": {},
     "output_type": "execute_result"
    },
    {
     "data": {
      "image/png": "[encoded data removed]",
      "text/plain": [
       "<Figure size 640x480 with 2 Axes>"
      ]
     },
     "metadata": {},
     "output_type": "display_data"
    }
   ],
   "source": [
    "mask=df_mba.notnull().all(axis=1)\n",
    "df_race_and_admission=df_mba[mask]\n",
    "for col in df_race_and_admission.columns:\n",
    "    if df_race_and_admission[col].dtype=='object' or df_race_and_admission[col].dtype=='bool':\n",
    "        df_race_and_admission[col]=LabelEncoder().fit_transform(df_race_and_admission[col])\n",
    "sns.heatmap(abs(df_race_and_admission.corr()), annot=True, fmt='.2f', cmap='plasma')"
   ]
  },
  {
   "cell_type": "code",
   "execution_count": 135,
   "id": "e0f43ae1-9d17-4ace-ae4f-3d8217dc386b",
   "metadata": {},
   "outputs": [],
   "source": [
    "original=df_mba.copy()\n",
    "mask_isnull=df_mba.isnull()\n",
    "le=LabelEncoder()\n",
    "for col in df_mba.columns:\n",
    "    if df_mba[col].dtype=='object' or df_mba[col].dtype=='bool':\n",
    "        df_mba[col]=le.fit_transform(df_mba[col])\n",
    "df_mba=df_mba.where(~mask_isnull, original)"
   ]
  },
  {
   "cell_type": "code",
   "execution_count": 136,
   "id": "6a8da8f6-8024-4f00-bc69-0c6bc9f7bfda",
   "metadata": {},
   "outputs": [
    {
     "data": {
      "text/plain": [
       "gender              0\n",
       "international       0\n",
       "gpa                 0\n",
       "major               0\n",
       "race                0\n",
       "gmat                0\n",
       "work_exp            0\n",
       "work_industry       0\n",
       "admission        5165\n",
       "dtype: int64"
      ]
     },
     "execution_count": 136,
     "metadata": {},
     "output_type": "execute_result"
    }
   ],
   "source": [
    "df_mba.isna().sum()"
   ]
  },
  {
   "cell_type": "code",
   "execution_count": 137,
   "id": "fcc25045-1c46-4bc7-9d02-109f8b98d783",
   "metadata": {},
   "outputs": [
    {
     "data": {
      "text/html": [
       "<div>\n",
       "<style scoped>\n",
       "    .dataframe tbody tr th:only-of-type {\n",
       "        vertical-align: middle;\n",
       "    }\n",
       "\n",
       "    .dataframe tbody tr th {\n",
       "        vertical-align: top;\n",
       "    }\n",
       "\n",
       "    .dataframe thead th {\n",
       "        text-align: right;\n",
       "    }\n",
       "</style>\n",
       "<table border=\"1\" class=\"dataframe\">\n",
       "  <thead>\n",
       "    <tr style=\"text-align: right;\">\n",
       "      <th></th>\n",
       "      <th>gender</th>\n",
       "      <th>international</th>\n",
       "      <th>gpa</th>\n",
       "      <th>major</th>\n",
       "      <th>race</th>\n",
       "      <th>gmat</th>\n",
       "      <th>work_exp</th>\n",
       "      <th>work_industry</th>\n",
       "      <th>admission</th>\n",
       "    </tr>\n",
       "  </thead>\n",
       "  <tbody>\n",
       "    <tr>\n",
       "      <th>0</th>\n",
       "      <td>0</td>\n",
       "      <td>0</td>\n",
       "      <td>3.30</td>\n",
       "      <td>0</td>\n",
       "      <td>0</td>\n",
       "      <td>620.0</td>\n",
       "      <td>3.0</td>\n",
       "      <td>3</td>\n",
       "      <td>0</td>\n",
       "    </tr>\n",
       "    <tr>\n",
       "      <th>1</th>\n",
       "      <td>1</td>\n",
       "      <td>0</td>\n",
       "      <td>3.28</td>\n",
       "      <td>1</td>\n",
       "      <td>1</td>\n",
       "      <td>680.0</td>\n",
       "      <td>5.0</td>\n",
       "      <td>6</td>\n",
       "      <td>NaN</td>\n",
       "    </tr>\n",
       "    <tr>\n",
       "      <th>2</th>\n",
       "      <td>0</td>\n",
       "      <td>1</td>\n",
       "      <td>3.30</td>\n",
       "      <td>0</td>\n",
       "      <td>4</td>\n",
       "      <td>710.0</td>\n",
       "      <td>5.0</td>\n",
       "      <td>13</td>\n",
       "      <td>0</td>\n",
       "    </tr>\n",
       "    <tr>\n",
       "      <th>3</th>\n",
       "      <td>1</td>\n",
       "      <td>0</td>\n",
       "      <td>3.47</td>\n",
       "      <td>2</td>\n",
       "      <td>1</td>\n",
       "      <td>690.0</td>\n",
       "      <td>6.0</td>\n",
       "      <td>13</td>\n",
       "      <td>NaN</td>\n",
       "    </tr>\n",
       "    <tr>\n",
       "      <th>4</th>\n",
       "      <td>1</td>\n",
       "      <td>0</td>\n",
       "      <td>3.35</td>\n",
       "      <td>2</td>\n",
       "      <td>2</td>\n",
       "      <td>590.0</td>\n",
       "      <td>5.0</td>\n",
       "      <td>1</td>\n",
       "      <td>NaN</td>\n",
       "    </tr>\n",
       "    <tr>\n",
       "      <th>...</th>\n",
       "      <td>...</td>\n",
       "      <td>...</td>\n",
       "      <td>...</td>\n",
       "      <td>...</td>\n",
       "      <td>...</td>\n",
       "      <td>...</td>\n",
       "      <td>...</td>\n",
       "      <td>...</td>\n",
       "      <td>...</td>\n",
       "    </tr>\n",
       "    <tr>\n",
       "      <th>6189</th>\n",
       "      <td>1</td>\n",
       "      <td>0</td>\n",
       "      <td>3.49</td>\n",
       "      <td>0</td>\n",
       "      <td>4</td>\n",
       "      <td>640.0</td>\n",
       "      <td>5.0</td>\n",
       "      <td>9</td>\n",
       "      <td>NaN</td>\n",
       "    </tr>\n",
       "    <tr>\n",
       "      <th>6190</th>\n",
       "      <td>1</td>\n",
       "      <td>0</td>\n",
       "      <td>3.18</td>\n",
       "      <td>2</td>\n",
       "      <td>1</td>\n",
       "      <td>670.0</td>\n",
       "      <td>4.0</td>\n",
       "      <td>1</td>\n",
       "      <td>NaN</td>\n",
       "    </tr>\n",
       "    <tr>\n",
       "      <th>6191</th>\n",
       "      <td>0</td>\n",
       "      <td>1</td>\n",
       "      <td>3.22</td>\n",
       "      <td>0</td>\n",
       "      <td>4</td>\n",
       "      <td>680.0</td>\n",
       "      <td>5.0</td>\n",
       "      <td>4</td>\n",
       "      <td>0</td>\n",
       "    </tr>\n",
       "    <tr>\n",
       "      <th>6192</th>\n",
       "      <td>1</td>\n",
       "      <td>1</td>\n",
       "      <td>3.36</td>\n",
       "      <td>0</td>\n",
       "      <td>4</td>\n",
       "      <td>590.0</td>\n",
       "      <td>5.0</td>\n",
       "      <td>9</td>\n",
       "      <td>NaN</td>\n",
       "    </tr>\n",
       "    <tr>\n",
       "      <th>6193</th>\n",
       "      <td>1</td>\n",
       "      <td>0</td>\n",
       "      <td>3.23</td>\n",
       "      <td>2</td>\n",
       "      <td>2</td>\n",
       "      <td>650.0</td>\n",
       "      <td>4.0</td>\n",
       "      <td>1</td>\n",
       "      <td>NaN</td>\n",
       "    </tr>\n",
       "  </tbody>\n",
       "</table>\n",
       "<p>6164 rows × 9 columns</p>\n",
       "</div>"
      ],
      "text/plain": [
       "      gender  international   gpa  major  race   gmat  work_exp  \\\n",
       "0          0              0  3.30      0     0  620.0       3.0   \n",
       "1          1              0  3.28      1     1  680.0       5.0   \n",
       "2          0              1  3.30      0     4  710.0       5.0   \n",
       "3          1              0  3.47      2     1  690.0       6.0   \n",
       "4          1              0  3.35      2     2  590.0       5.0   \n",
       "...      ...            ...   ...    ...   ...    ...       ...   \n",
       "6189       1              0  3.49      0     4  640.0       5.0   \n",
       "6190       1              0  3.18      2     1  670.0       4.0   \n",
       "6191       0              1  3.22      0     4  680.0       5.0   \n",
       "6192       1              1  3.36      0     4  590.0       5.0   \n",
       "6193       1              0  3.23      2     2  650.0       4.0   \n",
       "\n",
       "      work_industry admission  \n",
       "0                 3         0  \n",
       "1                 6       NaN  \n",
       "2                13         0  \n",
       "3                13       NaN  \n",
       "4                 1       NaN  \n",
       "...             ...       ...  \n",
       "6189              9       NaN  \n",
       "6190              1       NaN  \n",
       "6191              4         0  \n",
       "6192              9       NaN  \n",
       "6193              1       NaN  \n",
       "\n",
       "[6164 rows x 9 columns]"
      ]
     },
     "execution_count": 137,
     "metadata": {},
     "output_type": "execute_result"
    }
   ],
   "source": [
    "df_mba"
   ]
  },
  {
   "cell_type": "code",
   "execution_count": 138,
   "id": "80bf1a8f-2614-49d5-9360-017df470fd28",
   "metadata": {},
   "outputs": [
    {
     "name": "stdout",
     "output_type": "stream",
     "text": [
      "0    899\n",
      "1    100\n",
      "Name: admission, dtype: int64\n"
     ]
    }
   ],
   "source": [
    "df_mba_for_reproduction=df_mba[df_mba['admission'].isna()==False]\n",
    "print(df_mba_for_reproduction.admission.value_counts())"
   ]
  },
  {
   "cell_type": "code",
   "execution_count": 141,
   "id": "cfaa4037-bcdf-4e3a-956a-5f3b2e600b66",
   "metadata": {},
   "outputs": [],
   "source": [
    "imputer=KNNImputer(n_neighbors=5, weights='uniform')\n",
    "imp=imputer.fit_transform(df_mba)\n",
    "df_mba_final=pd.DataFrame(data=imp, columns=df_mba.columns)"
   ]
  },
  {
   "cell_type": "code",
   "execution_count": 143,
   "id": "fb403828-f406-4319-9d2b-b7d8dccfdaea",
   "metadata": {},
   "outputs": [],
   "source": [
    "df_mba_final['admission']=df_mba_final['admission'].astype('int')\n",
    "df_mba_final['gender']=df_mba_final['gender'].astype('int')\n",
    "df_mba_final['international']=df_mba_final['international'].astype('int')\n",
    "df_mba_final['work_industry']=df_mba_final['work_industry'].astype('int')\n",
    "df_mba_final['race']=df_mba_final['race'].astype('int')\n",
    "df_mba_final['major']=df_mba_final['major'].astype('int')"
   ]
  },
  {
   "cell_type": "code",
   "execution_count": 145,
   "id": "bf18d12c-7e93-461f-8e7d-ff51a9e4b3ff",
   "metadata": {},
   "outputs": [
    {
     "data": {
      "text/plain": [
       "0    6022\n",
       "1     142\n",
       "Name: admission, dtype: int64"
      ]
     },
     "execution_count": 145,
     "metadata": {},
     "output_type": "execute_result"
    }
   ],
   "source": [
    "df_mba_final.admission.value_counts()"
   ]
  },
  {
   "cell_type": "code",
   "execution_count": 146,
   "id": "d72da8dc-eaaa-4bc6-a74d-b13c36222f3e",
   "metadata": {},
   "outputs": [],
   "source": [
    "X,y=df_mba_final.drop('admission',axis=1), df_mba_final.admission\n",
    "smote=SMOTE(sampling_strategy='auto', k_neighbors=5, n_jobs=-1)\n",
    "X_res_mba,y_res_mba=smote.fit_resample(X,y)"
   ]
  },
  {
   "cell_type": "code",
   "execution_count": 148,
   "id": "087e9476-c258-4034-9a7b-33195e7d5f38",
   "metadata": {},
   "outputs": [
    {
     "name": "stdout",
     "output_type": "stream",
     "text": [
      "Train выборка: [4516 4517]\n",
      "Test выборка: [1506 1505]\n"
     ]
    }
   ],
   "source": [
    "X_train,X_test, y_train, y_test = train_test_split(X_res_mba,y_res_mba, test_size=0.25, stratify=y_res_mba, random_state=42)\n",
    "print(f'Train выборка: {np.bincount(y_train)}')\n",
    "print(f'Test выборка: {np.bincount(y_test)}')"
   ]
  },
  {
   "cell_type": "code",
   "execution_count": 149,
   "id": "c3884da8-a193-4df9-b7ee-edf8f389e287",
   "metadata": {},
   "outputs": [],
   "source": [
    "def objective(trial):\n",
    "    params={\n",
    "        'n_estimators':trial.suggest_int('n_estimators', 100,1000),\n",
    "        'max_depth':trial.suggest_int('max_depth', 10, 200),\n",
    "        'learning_rate':trial.suggest_float('learning_rate', 0.005, 0.01),\n",
    "        'min_child_weight': trial.suggest_int('min_child_weight', 1, 5)\n",
    "    }\n",
    "    XGB={\n",
    "        'tree_method':'hist'\n",
    "    }\n",
    "    cv=StratifiedKFold(n_splits=10, shuffle=True, random_state=42)\n",
    "    model=XGBClassifier(**params, **XGB, n_jobs=-1)\n",
    "    cross_val=cross_val_score(model, X_res_mba,y_res_mba, cv=cv, scoring='accuracy')\n",
    "    return np.mean(cross_val)"
   ]
  },
  {
   "cell_type": "code",
   "execution_count": 150,
   "id": "a53dcb04-a291-451a-843d-b0b789985e95",
   "metadata": {},
   "outputs": [
    {
     "name": "stderr",
     "output_type": "stream",
     "text": [
      "[I 2024-10-02 18:01:18,441] A new study created in memory with name: xgb_classifier\n",
      "[I 2024-10-02 18:01:25,311] Trial 0 finished with value: 0.9717699645717595 and parameters: {'n_estimators': 611, 'max_depth': 42, 'learning_rate': 0.006659979768577241, 'min_child_weight': 4}. Best is trial 0 with value: 0.9717699645717595.\n",
      "[I 2024-10-02 18:01:32,833] Trial 1 finished with value: 0.9720189961538992 and parameters: {'n_estimators': 639, 'max_depth': 45, 'learning_rate': 0.006355151047640791, 'min_child_weight': 3}. Best is trial 1 with value: 0.9720189961538992.\n",
      "[I 2024-10-02 18:01:39,185] Trial 2 finished with value: 0.9710228698253403 and parameters: {'n_estimators': 536, 'max_depth': 33, 'learning_rate': 0.006919208137435833, 'min_child_weight': 3}. Best is trial 1 with value: 0.9720189961538992.\n",
      "[I 2024-10-02 18:01:47,628] Trial 3 finished with value: 0.9778308818461283 and parameters: {'n_estimators': 858, 'max_depth': 161, 'learning_rate': 0.00976494242147892, 'min_child_weight': 4}. Best is trial 3 with value: 0.9778308818461283.\n",
      "[I 2024-10-02 18:01:49,215] Trial 4 finished with value: 0.9554965467804415 and parameters: {'n_estimators': 114, 'max_depth': 125, 'learning_rate': 0.008711000709067602, 'min_child_weight': 2}. Best is trial 3 with value: 0.9778308818461283.\n",
      "[I 2024-10-02 18:01:57,103] Trial 5 finished with value: 0.9716869770198923 and parameters: {'n_estimators': 723, 'max_depth': 168, 'learning_rate': 0.005494842910395174, 'min_child_weight': 4}. Best is trial 3 with value: 0.9778308818461283.\n",
      "[I 2024-10-02 18:02:01,151] Trial 6 finished with value: 0.9628858852235286 and parameters: {'n_estimators': 305, 'max_depth': 29, 'learning_rate': 0.00615794970990114, 'min_child_weight': 2}. Best is trial 3 with value: 0.9778308818461283.\n",
      "[I 2024-10-02 18:02:08,124] Trial 7 finished with value: 0.9687809652472396 and parameters: {'n_estimators': 631, 'max_depth': 125, 'learning_rate': 0.005730386462577982, 'min_child_weight': 5}. Best is trial 3 with value: 0.9778308818461283.\n",
      "[I 2024-10-02 18:02:14,462] Trial 8 finished with value: 0.9746759763444122 and parameters: {'n_estimators': 553, 'max_depth': 120, 'learning_rate': 0.00869810414389029, 'min_child_weight': 3}. Best is trial 3 with value: 0.9778308818461283.\n",
      "[I 2024-10-02 18:02:23,613] Trial 9 finished with value: 0.9781631077597496 and parameters: {'n_estimators': 626, 'max_depth': 98, 'learning_rate': 0.008750257994069038, 'min_child_weight': 1}. Best is trial 9 with value: 0.9781631077597496.\n",
      "[I 2024-10-02 18:02:36,822] Trial 10 finished with value: 0.9806539060669138 and parameters: {'n_estimators': 998, 'max_depth': 77, 'learning_rate': 0.008019984310585601, 'min_child_weight': 1}. Best is trial 10 with value: 0.9806539060669138.\n",
      "[I 2024-10-02 18:02:49,767] Trial 11 finished with value: 0.9808200879502627 and parameters: {'n_estimators': 972, 'max_depth': 83, 'learning_rate': 0.008018575255373294, 'min_child_weight': 1}. Best is trial 11 with value: 0.9808200879502627.\n",
      "[I 2024-10-02 18:03:03,263] Trial 12 finished with value: 0.9801557739760962 and parameters: {'n_estimators': 995, 'max_depth': 79, 'learning_rate': 0.0076192326581059015, 'min_child_weight': 1}. Best is trial 11 with value: 0.9808200879502627.\n",
      "[I 2024-10-02 18:03:16,469] Trial 13 finished with value: 0.980239037234116 and parameters: {'n_estimators': 1000, 'max_depth': 86, 'learning_rate': 0.00776047014973477, 'min_child_weight': 1}. Best is trial 11 with value: 0.9808200879502627.\n",
      "[I 2024-10-02 18:03:26,466] Trial 14 finished with value: 0.9789106160653974 and parameters: {'n_estimators': 846, 'max_depth': 67, 'learning_rate': 0.008108366121037068, 'min_child_weight': 2}. Best is trial 11 with value: 0.9808200879502627.\n",
      "[I 2024-10-02 18:03:37,825] Trial 15 finished with value: 0.9803218869329069 and parameters: {'n_estimators': 873, 'max_depth': 196, 'learning_rate': 0.009275376400231357, 'min_child_weight': 1}. Best is trial 11 with value: 0.9808200879502627.\n",
      "[I 2024-10-02 18:03:41,375] Trial 16 finished with value: 0.9635511641692285 and parameters: {'n_estimators': 438, 'max_depth': 11, 'learning_rate': 0.007156984846830668, 'min_child_weight': 2}. Best is trial 11 with value: 0.9808200879502627.\n",
      "[I 2024-10-02 18:03:51,856] Trial 17 finished with value: 0.9799066045408804 and parameters: {'n_estimators': 765, 'max_depth': 62, 'learning_rate': 0.008342868446405829, 'min_child_weight': 1}. Best is trial 11 with value: 0.9808200879502627.\n",
      "[I 2024-10-02 18:04:02,859] Trial 18 finished with value: 0.9787445031085868 and parameters: {'n_estimators': 920, 'max_depth': 107, 'learning_rate': 0.007368606089958547, 'min_child_weight': 2}. Best is trial 11 with value: 0.9808200879502627.\n",
      "[I 2024-10-02 18:04:13,179] Trial 19 finished with value: 0.9799068802470329 and parameters: {'n_estimators': 763, 'max_depth': 154, 'learning_rate': 0.009360131848824362, 'min_child_weight': 1}. Best is trial 11 with value: 0.9808200879502627.\n",
      "[I 2024-10-02 18:04:17,202] Trial 20 finished with value: 0.965460291421403 and parameters: {'n_estimators': 395, 'max_depth': 68, 'learning_rate': 0.00800556462727839, 'min_child_weight': 5}. Best is trial 11 with value: 0.9808200879502627.\n",
      "[I 2024-10-02 18:04:28,877] Trial 21 finished with value: 0.9804050123378504 and parameters: {'n_estimators': 914, 'max_depth': 196, 'learning_rate': 0.009317932200323035, 'min_child_weight': 1}. Best is trial 11 with value: 0.9808200879502627.\n",
      "[I 2024-10-02 18:04:40,783] Trial 22 finished with value: 0.9812351635626749 and parameters: {'n_estimators': 963, 'max_depth': 197, 'learning_rate': 0.009765368726700255, 'min_child_weight': 1}. Best is trial 22 with value: 0.9812351635626749.\n",
      "[I 2024-10-02 18:04:51,339] Trial 23 finished with value: 0.9805709185150466 and parameters: {'n_estimators': 997, 'max_depth': 91, 'learning_rate': 0.009745916732710785, 'min_child_weight': 2}. Best is trial 22 with value: 0.9812351635626749.\n",
      "[I 2024-10-02 18:05:01,991] Trial 24 finished with value: 0.9796577797383549 and parameters: {'n_estimators': 814, 'max_depth': 142, 'learning_rate': 0.00852603762113508, 'min_child_weight': 1}. Best is trial 22 with value: 0.9812351635626749.\n",
      "[I 2024-10-02 18:05:12,377] Trial 25 finished with value: 0.9795745164803351 and parameters: {'n_estimators': 928, 'max_depth': 109, 'learning_rate': 0.009085955202687472, 'min_child_weight': 2}. Best is trial 22 with value: 0.9812351635626749.\n",
      "[I 2024-10-02 18:05:22,329] Trial 26 finished with value: 0.9786613087771053 and parameters: {'n_estimators': 725, 'max_depth': 55, 'learning_rate': 0.007959112921229042, 'min_child_weight': 1}. Best is trial 22 with value: 0.9812351635626749.\n",
      "[I 2024-10-02 18:05:32,391] Trial 27 finished with value: 0.9800728553507672 and parameters: {'n_estimators': 936, 'max_depth': 176, 'learning_rate': 0.009891687138850186, 'min_child_weight': 2}. Best is trial 22 with value: 0.9812351635626749.\n",
      "[I 2024-10-02 18:05:43,407] Trial 28 finished with value: 0.979159371941385 and parameters: {'n_estimators': 815, 'max_depth': 76, 'learning_rate': 0.007288026659796583, 'min_child_weight': 1}. Best is trial 22 with value: 0.9812351635626749.\n",
      "[I 2024-10-02 18:05:45,123] Trial 29 finished with value: 0.9534209619387657 and parameters: {'n_estimators': 150, 'max_depth': 113, 'learning_rate': 0.006639450130862295, 'min_child_weight': 3}. Best is trial 22 with value: 0.9812351635626749.\n",
      "[I 2024-10-02 18:05:57,257] Trial 30 finished with value: 0.9807371003983955 and parameters: {'n_estimators': 939, 'max_depth': 141, 'learning_rate': 0.008338784716678755, 'min_child_weight': 1}. Best is trial 22 with value: 0.9812351635626749.\n",
      "[I 2024-10-02 18:06:09,681] Trial 31 finished with value: 0.9810690506058641 and parameters: {'n_estimators': 959, 'max_depth': 132, 'learning_rate': 0.008955370908487264, 'min_child_weight': 1}. Best is trial 22 with value: 0.9812351635626749.\n",
      "[I 2024-10-02 18:06:21,182] Trial 32 finished with value: 0.9804050812643885 and parameters: {'n_estimators': 905, 'max_depth': 139, 'learning_rate': 0.009077564612578352, 'min_child_weight': 1}. Best is trial 22 with value: 0.9812351635626749.\n",
      "[I 2024-10-02 18:06:31,601] Trial 33 finished with value: 0.9797406294371458 and parameters: {'n_estimators': 807, 'max_depth': 180, 'learning_rate': 0.008413698342241089, 'min_child_weight': 1}. Best is trial 22 with value: 0.9812351635626749.\n",
      "[I 2024-10-02 18:06:39,397] Trial 34 finished with value: 0.978827490660454 and parameters: {'n_estimators': 702, 'max_depth': 140, 'learning_rate': 0.00959485063099585, 'min_child_weight': 2}. Best is trial 22 with value: 0.9812351635626749.\n",
      "[I 2024-10-02 18:06:48,648] Trial 35 finished with value: 0.980072786424229 and parameters: {'n_estimators': 961, 'max_depth': 183, 'learning_rate': 0.008874983084572708, 'min_child_weight': 3}. Best is trial 22 with value: 0.9812351635626749.\n",
      "[I 2024-10-02 18:06:59,451] Trial 36 finished with value: 0.9808199500971865 and parameters: {'n_estimators': 872, 'max_depth': 150, 'learning_rate': 0.009522725815822678, 'min_child_weight': 1}. Best is trial 22 with value: 0.9812351635626749.\n",
      "[I 2024-10-02 18:07:07,483] Trial 37 finished with value: 0.9779137315449195 and parameters: {'n_estimators': 869, 'max_depth': 153, 'learning_rate': 0.009496063366026439, 'min_child_weight': 4}. Best is trial 22 with value: 0.9812351635626749.\n",
      "[I 2024-10-02 18:07:16,949] Trial 38 finished with value: 0.9799066045408804 and parameters: {'n_estimators': 881, 'max_depth': 166, 'learning_rate': 0.009840837722066162, 'min_child_weight': 2}. Best is trial 22 with value: 0.9812351635626749.\n",
      "[I 2024-10-02 18:07:24,645] Trial 39 finished with value: 0.978246233164693 and parameters: {'n_estimators': 666, 'max_depth': 131, 'learning_rate': 0.00902686564837463, 'min_child_weight': 2}. Best is trial 22 with value: 0.9812351635626749.\n",
      "[I 2024-10-02 18:07:33,146] Trial 40 finished with value: 0.9711882935167699 and parameters: {'n_estimators': 578, 'max_depth': 154, 'learning_rate': 0.005024155836399418, 'min_child_weight': 1}. Best is trial 22 with value: 0.9812351635626749.\n",
      "[I 2024-10-02 18:07:45,431] Trial 41 finished with value: 0.9802391750871922 and parameters: {'n_estimators': 955, 'max_depth': 134, 'learning_rate': 0.008411318201466485, 'min_child_weight': 1}. Best is trial 22 with value: 0.9812351635626749.\n",
      "[I 2024-10-02 18:07:57,121] Trial 42 finished with value: 0.9811522449373458 and parameters: {'n_estimators': 959, 'max_depth': 98, 'learning_rate': 0.00995772955594832, 'min_child_weight': 1}. Best is trial 22 with value: 0.9812351635626749.\n",
      "[I 2024-10-02 18:08:08,060] Trial 43 finished with value: 0.9809028687225156 and parameters: {'n_estimators': 843, 'max_depth': 94, 'learning_rate': 0.009560369213644114, 'min_child_weight': 1}. Best is trial 22 with value: 0.9812351635626749.\n",
      "[I 2024-10-02 18:08:19,775] Trial 44 finished with value: 0.981235232489213 and parameters: {'n_estimators': 964, 'max_depth': 98, 'learning_rate': 0.009977166760460024, 'min_child_weight': 1}. Best is trial 44 with value: 0.981235232489213.\n",
      "[I 2024-10-02 18:08:30,307] Trial 45 finished with value: 0.9809030755021299 and parameters: {'n_estimators': 835, 'max_depth': 100, 'learning_rate': 0.009996563785323265, 'min_child_weight': 1}. Best is trial 44 with value: 0.981235232489213.\n",
      "[I 2024-10-02 18:08:37,613] Trial 46 finished with value: 0.9774155994541017 and parameters: {'n_estimators': 780, 'max_depth': 101, 'learning_rate': 0.009988448581273474, 'min_child_weight': 4}. Best is trial 44 with value: 0.981235232489213.\n",
      "[I 2024-10-02 18:08:42,805] Trial 47 finished with value: 0.9743438882838669 and parameters: {'n_estimators': 481, 'max_depth': 119, 'learning_rate': 0.009993139988165459, 'min_child_weight': 3}. Best is trial 44 with value: 0.981235232489213.\n",
      "[I 2024-10-02 18:08:54,549] Trial 48 finished with value: 0.9813181511145421 and parameters: {'n_estimators': 960, 'max_depth': 41, 'learning_rate': 0.009704417613607933, 'min_child_weight': 1}. Best is trial 48 with value: 0.9813181511145421.\n",
      "[I 2024-10-02 18:08:58,117] Trial 49 finished with value: 0.9686973573565293 and parameters: {'n_estimators': 247, 'max_depth': 33, 'learning_rate': 0.009675153354960967, 'min_child_weight': 1}. Best is trial 48 with value: 0.9813181511145421.\n"
     ]
    }
   ],
   "source": [
    "study=optuna.create_study(study_name='xgb_classifier', direction='maximize')\n",
    "study.optimize(objective, n_trials=50)"
   ]
  },
  {
   "cell_type": "code",
   "execution_count": 151,
   "id": "fc30e31d-92a3-4945-9a00-a9fb329fb673",
   "metadata": {},
   "outputs": [
    {
     "data": {
      "text/html": [
       "<style>#sk-container-id-3 {color: black;background-color: white;}#sk-container-id-3 pre{padding: 0;}#sk-container-id-3 div.sk-toggleable {background-color: white;}#sk-container-id-3 label.sk-toggleable__label {cursor: pointer;display: block;width: 100%;margin-bottom: 0;padding: 0.3em;box-sizing: border-box;text-align: center;}#sk-container-id-3 label.sk-toggleable__label-arrow:before {content: \"▸\";float: left;margin-right: 0.25em;color: #696969;}#sk-container-id-3 label.sk-toggleable__label-arrow:hover:before {color: black;}#sk-container-id-3 div.sk-estimator:hover label.sk-toggleable__label-arrow:before {color: black;}#sk-container-id-3 div.sk-toggleable__content {max-height: 0;max-width: 0;overflow: hidden;text-align: left;background-color: #f0f8ff;}#sk-container-id-3 div.sk-toggleable__content pre {margin: 0.2em;color: black;border-radius: 0.25em;background-color: #f0f8ff;}#sk-container-id-3 input.sk-toggleable__control:checked~div.sk-toggleable__content {max-height: 200px;max-width: 100%;overflow: auto;}#sk-container-id-3 input.sk-toggleable__control:checked~label.sk-toggleable__label-arrow:before {content: \"▾\";}#sk-container-id-3 div.sk-estimator input.sk-toggleable__control:checked~label.sk-toggleable__label {background-color: #d4ebff;}#sk-container-id-3 div.sk-label input.sk-toggleable__control:checked~label.sk-toggleable__label {background-color: #d4ebff;}#sk-container-id-3 input.sk-hidden--visually {border: 0;clip: rect(1px 1px 1px 1px);clip: rect(1px, 1px, 1px, 1px);height: 1px;margin: -1px;overflow: hidden;padding: 0;position: absolute;width: 1px;}#sk-container-id-3 div.sk-estimator {font-family: monospace;background-color: #f0f8ff;border: 1px dotted black;border-radius: 0.25em;box-sizing: border-box;margin-bottom: 0.5em;}#sk-container-id-3 div.sk-estimator:hover {background-color: #d4ebff;}#sk-container-id-3 div.sk-parallel-item::after {content: \"\";width: 100%;border-bottom: 1px solid gray;flex-grow: 1;}#sk-container-id-3 div.sk-label:hover label.sk-toggleable__label {background-color: #d4ebff;}#sk-container-id-3 div.sk-serial::before {content: \"\";position: absolute;border-left: 1px solid gray;box-sizing: border-box;top: 0;bottom: 0;left: 50%;z-index: 0;}#sk-container-id-3 div.sk-serial {display: flex;flex-direction: column;align-items: center;background-color: white;padding-right: 0.2em;padding-left: 0.2em;position: relative;}#sk-container-id-3 div.sk-item {position: relative;z-index: 1;}#sk-container-id-3 div.sk-parallel {display: flex;align-items: stretch;justify-content: center;background-color: white;position: relative;}#sk-container-id-3 div.sk-item::before, #sk-container-id-3 div.sk-parallel-item::before {content: \"\";position: absolute;border-left: 1px solid gray;box-sizing: border-box;top: 0;bottom: 0;left: 50%;z-index: -1;}#sk-container-id-3 div.sk-parallel-item {display: flex;flex-direction: column;z-index: 1;position: relative;background-color: white;}#sk-container-id-3 div.sk-parallel-item:first-child::after {align-self: flex-end;width: 50%;}#sk-container-id-3 div.sk-parallel-item:last-child::after {align-self: flex-start;width: 50%;}#sk-container-id-3 div.sk-parallel-item:only-child::after {width: 0;}#sk-container-id-3 div.sk-dashed-wrapped {border: 1px dashed gray;margin: 0 0.4em 0.5em 0.4em;box-sizing: border-box;padding-bottom: 0.4em;background-color: white;}#sk-container-id-3 div.sk-label label {font-family: monospace;font-weight: bold;display: inline-block;line-height: 1.2em;}#sk-container-id-3 div.sk-label-container {text-align: center;}#sk-container-id-3 div.sk-container {/* jupyter's `normalize.less` sets `[hidden] { display: none; }` but bootstrap.min.css set `[hidden] { display: none !important; }` so we also need the `!important` here to be able to override the default hidden behavior on the sphinx rendered scikit-learn.org. See: https://github.com/scikit-learn/scikit-learn/issues/21755 */display: inline-block !important;position: relative;}#sk-container-id-3 div.sk-text-repr-fallback {display: none;}</style><div id=\"sk-container-id-3\" class=\"sk-top-container\"><div class=\"sk-text-repr-fallback\"><pre>XGBClassifier(base_score=None, booster=None, callbacks=None,\n",
       "              colsample_bylevel=None, colsample_bynode=None,\n",
       "              colsample_bytree=None, device=None, early_stopping_rounds=None,\n",
       "              enable_categorical=False, eval_metric=None, feature_types=None,\n",
       "              gamma=None, grow_policy=None, importance_type=None,\n",
       "              interaction_constraints=None, learning_rate=0.009704417613607933,\n",
       "              max_bin=None, max_cat_threshold=None, max_cat_to_onehot=None,\n",
       "              max_delta_step=None, max_depth=41, max_leaves=None,\n",
       "              min_child_weight=1, missing=nan, monotone_constraints=None,\n",
       "              multi_strategy=None, n_estimators=960, n_jobs=None,\n",
       "              num_parallel_tree=None, random_state=None, ...)</pre><b>In a Jupyter environment, please rerun this cell to show the HTML representation or trust the notebook. <br />On GitHub, the HTML representation is unable to render, please try loading this page with nbviewer.org.</b></div><div class=\"sk-container\" hidden><div class=\"sk-item\"><div class=\"sk-estimator sk-toggleable\"><input class=\"sk-toggleable__control sk-hidden--visually\" id=\"sk-estimator-id-3\" type=\"checkbox\" checked><label for=\"sk-estimator-id-3\" class=\"sk-toggleable__label sk-toggleable__label-arrow\">XGBClassifier</label><div class=\"sk-toggleable__content\"><pre>XGBClassifier(base_score=None, booster=None, callbacks=None,\n",
       "              colsample_bylevel=None, colsample_bynode=None,\n",
       "              colsample_bytree=None, device=None, early_stopping_rounds=None,\n",
       "              enable_categorical=False, eval_metric=None, feature_types=None,\n",
       "              gamma=None, grow_policy=None, importance_type=None,\n",
       "              interaction_constraints=None, learning_rate=0.009704417613607933,\n",
       "              max_bin=None, max_cat_threshold=None, max_cat_to_onehot=None,\n",
       "              max_delta_step=None, max_depth=41, max_leaves=None,\n",
       "              min_child_weight=1, missing=nan, monotone_constraints=None,\n",
       "              multi_strategy=None, n_estimators=960, n_jobs=None,\n",
       "              num_parallel_tree=None, random_state=None, ...)</pre></div></div></div></div></div>"
      ],
      "text/plain": [
       "XGBClassifier(base_score=None, booster=None, callbacks=None,\n",
       "              colsample_bylevel=None, colsample_bynode=None,\n",
       "              colsample_bytree=None, device=None, early_stopping_rounds=None,\n",
       "              enable_categorical=False, eval_metric=None, feature_types=None,\n",
       "              gamma=None, grow_policy=None, importance_type=None,\n",
       "              interaction_constraints=None, learning_rate=0.009704417613607933,\n",
       "              max_bin=None, max_cat_threshold=None, max_cat_to_onehot=None,\n",
       "              max_delta_step=None, max_depth=41, max_leaves=None,\n",
       "              min_child_weight=1, missing=nan, monotone_constraints=None,\n",
       "              multi_strategy=None, n_estimators=960, n_jobs=None,\n",
       "              num_parallel_tree=None, random_state=None, ...)"
      ]
     },
     "execution_count": 151,
     "metadata": {},
     "output_type": "execute_result"
    }
   ],
   "source": [
    "xgb=XGBClassifier(**study.best_params)\n",
    "xgb.fit(X_train,y_train)"
   ]
  },
  {
   "cell_type": "code",
   "execution_count": 153,
   "id": "477d0963-e8ed-4650-93eb-478a5145d649",
   "metadata": {},
   "outputs": [
    {
     "name": "stdout",
     "output_type": "stream",
     "text": [
      "f1_score is: 0.9808327825512226\n"
     ]
    },
    {
     "data": {
      "text/plain": [
       "<Axes: >"
      ]
     },
     "execution_count": 153,
     "metadata": {},
     "output_type": "execute_result"
    },
    {
     "data": {
      "image/png": "[encoded data removed]",
      "text/plain": [
       "<Figure size 640x480 with 2 Axes>"
      ]
     },
     "metadata": {},
     "output_type": "display_data"
    }
   ],
   "source": [
    "y_pred=xgb.predict(X_test)\n",
    "print(f'f1_score is: {f1_score(y_test,y_pred)}')\n",
    "sns.heatmap(confusion_matrix(y_test,y_pred), annot=True, fmt='d', cmap='coolwarm')"
   ]
  },
  {
   "cell_type": "code",
   "execution_count": 154,
   "id": "0dfd2c6d-5bdd-48f0-be01-605013854e14",
   "metadata": {},
   "outputs": [],
   "source": [
    "def objective2(trial):\n",
    "    params={\n",
    "        'n_estimators':trial.suggest_int('n_estimators', 100,1000),\n",
    "        'max_depth':trial.suggest_int('max_depth', 10, 200),\n",
    "        'learning_rate':trial.suggest_float('learning_rate', 0.005, 0.01),\n",
    "        'min_child_weight': trial.suggest_int('min_child_weight', 1, 5)\n",
    "    }\n",
    "    XGB={\n",
    "        'tree_method':'hist'\n",
    "    }\n",
    "    cv=StratifiedKFold(n_splits=10, shuffle=True, random_state=42)\n",
    "    model=XGBClassifier(**params, **XGB, n_jobs=-1)\n",
    "    cross_val=cross_val_score(model, X_train,y_train, cv=cv, scoring='accuracy')\n",
    "    return np.mean(cross_val)"
   ]
  },
  {
   "cell_type": "code",
   "execution_count": 155,
   "id": "968e03bd-b9bc-4baf-86a0-a431f6e68929",
   "metadata": {},
   "outputs": [
    {
     "name": "stderr",
     "output_type": "stream",
     "text": [
      "[I 2024-10-02 18:28:52,712] A new study created in memory with name: xgb_model2\n",
      "[I 2024-10-02 18:28:58,984] Trial 0 finished with value: 0.9702205774262783 and parameters: {'n_estimators': 653, 'max_depth': 152, 'learning_rate': 0.007781030418599616, 'min_child_weight': 4}. Best is trial 0 with value: 0.9702205774262783.\n",
      "[I 2024-10-02 18:29:09,114] Trial 1 finished with value: 0.9738740824586676 and parameters: {'n_estimators': 832, 'max_depth': 77, 'learning_rate': 0.00758753349287981, 'min_child_weight': 1}. Best is trial 1 with value: 0.9738740824586676.\n",
      "[I 2024-10-02 18:29:14,013] Trial 2 finished with value: 0.9647963033742002 and parameters: {'n_estimators': 662, 'max_depth': 14, 'learning_rate': 0.006929957340853527, 'min_child_weight': 5}. Best is trial 1 with value: 0.9738740824586676.\n",
      "[I 2024-10-02 18:29:25,903] Trial 3 finished with value: 0.9744276698125226 and parameters: {'n_estimators': 954, 'max_depth': 145, 'learning_rate': 0.007010941389346754, 'min_child_weight': 1}. Best is trial 3 with value: 0.9744276698125226.\n",
      "[I 2024-10-02 18:29:34,070] Trial 4 finished with value: 0.9715486235654996 and parameters: {'n_estimators': 735, 'max_depth': 159, 'learning_rate': 0.006702295607648575, 'min_child_weight': 2}. Best is trial 3 with value: 0.9744276698125226.\n",
      "[I 2024-10-02 18:29:39,070] Trial 5 finished with value: 0.968449685904409 and parameters: {'n_estimators': 446, 'max_depth': 81, 'learning_rate': 0.009962654498512438, 'min_child_weight': 4}. Best is trial 3 with value: 0.9744276698125226.\n",
      "[I 2024-10-02 18:29:49,561] Trial 6 finished with value: 0.975201883593528 and parameters: {'n_estimators': 966, 'max_depth': 195, 'learning_rate': 0.00716768831147167, 'min_child_weight': 2}. Best is trial 6 with value: 0.975201883593528.\n",
      "[I 2024-10-02 18:29:58,055] Trial 7 finished with value: 0.974538044277188 and parameters: {'n_estimators': 694, 'max_depth': 37, 'learning_rate': 0.00985082537969401, 'min_child_weight': 1}. Best is trial 6 with value: 0.975201883593528.\n",
      "[I 2024-10-02 18:30:02,412] Trial 8 finished with value: 0.9625829339762249 and parameters: {'n_estimators': 434, 'max_depth': 21, 'learning_rate': 0.007124683561414725, 'min_child_weight': 4}. Best is trial 6 with value: 0.975201883593528.\n",
      "[I 2024-10-02 18:30:08,888] Trial 9 finished with value: 0.9690030282539028 and parameters: {'n_estimators': 627, 'max_depth': 198, 'learning_rate': 0.006513875669403077, 'min_child_weight': 3}. Best is trial 6 with value: 0.975201883593528.\n",
      "[I 2024-10-02 18:30:10,524] Trial 10 finished with value: 0.9480812483462205 and parameters: {'n_estimators': 135, 'max_depth': 197, 'learning_rate': 0.005196104905075369, 'min_child_weight': 2}. Best is trial 6 with value: 0.975201883593528.\n",
      "[I 2024-10-02 18:30:19,974] Trial 11 finished with value: 0.9755341095071491 and parameters: {'n_estimators': 978, 'max_depth': 59, 'learning_rate': 0.009084965154707652, 'min_child_weight': 2}. Best is trial 11 with value: 0.9755341095071491.\n",
      "[I 2024-10-02 18:30:29,901] Trial 12 finished with value: 0.9761983163300307 and parameters: {'n_estimators': 996, 'max_depth': 60, 'learning_rate': 0.00851045641672748, 'min_child_weight': 2}. Best is trial 12 with value: 0.9761983163300307.\n",
      "[I 2024-10-02 18:30:37,877] Trial 13 finished with value: 0.9737624829721969 and parameters: {'n_estimators': 858, 'max_depth': 68, 'learning_rate': 0.008839748596607607, 'min_child_weight': 3}. Best is trial 12 with value: 0.9761983163300307.\n",
      "[I 2024-10-02 18:30:47,430] Trial 14 finished with value: 0.9757557159517439 and parameters: {'n_estimators': 969, 'max_depth': 106, 'learning_rate': 0.008693666881257786, 'min_child_weight': 2}. Best is trial 12 with value: 0.9761983163300307.\n",
      "[I 2024-10-02 18:30:55,364] Trial 15 finished with value: 0.9745375542684659 and parameters: {'n_estimators': 852, 'max_depth': 114, 'learning_rate': 0.008435210769522717, 'min_child_weight': 3}. Best is trial 12 with value: 0.9761983163300307.\n",
      "[I 2024-10-02 18:30:58,541] Trial 16 finished with value: 0.9623604700163663 and parameters: {'n_estimators': 274, 'max_depth': 106, 'learning_rate': 0.008179939220971728, 'min_child_weight': 2}. Best is trial 12 with value: 0.9761983163300307.\n",
      "[I 2024-10-02 18:31:08,091] Trial 17 finished with value: 0.9750915091288623 and parameters: {'n_estimators': 783, 'max_depth': 131, 'learning_rate': 0.009282656054104799, 'min_child_weight': 1}. Best is trial 12 with value: 0.9761983163300307.\n",
      "[I 2024-10-02 18:31:13,529] Trial 18 finished with value: 0.9695561255990357 and parameters: {'n_estimators': 480, 'max_depth': 43, 'learning_rate': 0.008317004038795532, 'min_child_weight': 2}. Best is trial 12 with value: 0.9761983163300307.\n",
      "[I 2024-10-02 18:31:22,172] Trial 19 finished with value: 0.9743161928282325 and parameters: {'n_estimators': 910, 'max_depth': 90, 'learning_rate': 0.009298394896635843, 'min_child_weight': 3}. Best is trial 12 with value: 0.9761983163300307.\n",
      "[I 2024-10-02 18:31:27,825] Trial 20 finished with value: 0.9660139750487557 and parameters: {'n_estimators': 538, 'max_depth': 122, 'learning_rate': 0.00597673779131265, 'min_child_weight': 3}. Best is trial 12 with value: 0.9761983163300307.\n",
      "[I 2024-10-02 18:31:37,771] Trial 21 finished with value: 0.9757557159517439 and parameters: {'n_estimators': 997, 'max_depth': 60, 'learning_rate': 0.00911440951963543, 'min_child_weight': 2}. Best is trial 12 with value: 0.9761983163300307.\n",
      "[I 2024-10-02 18:31:47,512] Trial 22 finished with value: 0.9758660904164094 and parameters: {'n_estimators': 974, 'max_depth': 95, 'learning_rate': 0.00874135103270699, 'min_child_weight': 2}. Best is trial 12 with value: 0.9761983163300307.\n",
      "[I 2024-10-02 18:31:57,901] Trial 23 finished with value: 0.9752026186066111 and parameters: {'n_estimators': 894, 'max_depth': 93, 'learning_rate': 0.008635310887356385, 'min_child_weight': 1}. Best is trial 12 with value: 0.9761983163300307.\n",
      "[I 2024-10-02 18:32:06,663] Trial 24 finished with value: 0.9740948313879988 and parameters: {'n_estimators': 766, 'max_depth': 98, 'learning_rate': 0.007957144378358783, 'min_child_weight': 2}. Best is trial 12 with value: 0.9761983163300307.\n",
      "[I 2024-10-02 18:32:14,809] Trial 25 finished with value: 0.9749803996511137 and parameters: {'n_estimators': 918, 'max_depth': 40, 'learning_rate': 0.009571940240646526, 'min_child_weight': 3}. Best is trial 12 with value: 0.9761983163300307.\n",
      "[I 2024-10-02 18:32:23,266] Trial 26 finished with value: 0.9744268122972588 and parameters: {'n_estimators': 816, 'max_depth': 136, 'learning_rate': 0.008656071941454698, 'min_child_weight': 2}. Best is trial 12 with value: 0.9761983163300307.\n",
      "[I 2024-10-02 18:32:27,753] Trial 27 finished with value: 0.9660136075422141 and parameters: {'n_estimators': 338, 'max_depth': 170, 'learning_rate': 0.008212807177685612, 'min_child_weight': 1}. Best is trial 12 with value: 0.9761983163300307.\n",
      "[I 2024-10-02 18:32:38,093] Trial 28 finished with value: 0.9755342320093299 and parameters: {'n_estimators': 1000, 'max_depth': 110, 'learning_rate': 0.008813618002219354, 'min_child_weight': 2}. Best is trial 12 with value: 0.9761983163300307.\n",
      "[I 2024-10-02 18:32:46,535] Trial 29 finished with value: 0.9736516184988092 and parameters: {'n_estimators': 904, 'max_depth': 77, 'learning_rate': 0.00779184147295222, 'min_child_weight': 3}. Best is trial 12 with value: 0.9761983163300307.\n",
      "[I 2024-10-02 18:32:53,430] Trial 30 finished with value: 0.9713273846274463 and parameters: {'n_estimators': 722, 'max_depth': 51, 'learning_rate': 0.009484221052303596, 'min_child_weight': 5}. Best is trial 12 with value: 0.9761983163300307.\n",
      "[I 2024-10-02 18:33:03,082] Trial 31 finished with value: 0.9759773223963387 and parameters: {'n_estimators': 989, 'max_depth': 63, 'learning_rate': 0.009055948088921042, 'min_child_weight': 2}. Best is trial 12 with value: 0.9761983163300307.\n",
      "[I 2024-10-02 18:33:12,743] Trial 32 finished with value: 0.9745375542684659 and parameters: {'n_estimators': 940, 'max_depth': 83, 'learning_rate': 0.007514891937943033, 'min_child_weight': 2}. Best is trial 12 with value: 0.9761983163300307.\n",
      "[I 2024-10-02 18:33:23,099] Trial 33 finished with value: 0.9755347220180518 and parameters: {'n_estimators': 855, 'max_depth': 72, 'learning_rate': 0.008908633063939832, 'min_child_weight': 1}. Best is trial 12 with value: 0.9761983163300307.\n",
      "[I 2024-10-02 18:33:31,682] Trial 34 finished with value: 0.9740949538901793 and parameters: {'n_estimators': 813, 'max_depth': 25, 'learning_rate': 0.008020397765783043, 'min_child_weight': 2}. Best is trial 12 with value: 0.9761983163300307.\n",
      "[I 2024-10-02 18:33:39,180] Trial 35 finished with value: 0.971438249100834 and parameters: {'n_estimators': 599, 'max_depth': 65, 'learning_rate': 0.00852259906612372, 'min_child_weight': 1}. Best is trial 12 with value: 0.9761983163300307.\n",
      "[I 2024-10-02 18:33:47,631] Trial 36 finished with value: 0.9748702701908094 and parameters: {'n_estimators': 944, 'max_depth': 97, 'learning_rate': 0.009574449339473696, 'min_child_weight': 3}. Best is trial 12 with value: 0.9761983163300307.\n",
      "[I 2024-10-02 18:33:56,799] Trial 37 finished with value: 0.974426812297259 and parameters: {'n_estimators': 880, 'max_depth': 51, 'learning_rate': 0.007682537733941813, 'min_child_weight': 2}. Best is trial 12 with value: 0.9761983163300307.\n",
      "[I 2024-10-02 18:34:08,200] Trial 38 finished with value: 0.9761986838365722 and parameters: {'n_estimators': 997, 'max_depth': 125, 'learning_rate': 0.008952488470996334, 'min_child_weight': 1}. Best is trial 38 with value: 0.9761986838365722.\n",
      "[I 2024-10-02 18:34:19,433] Trial 39 finished with value: 0.9759773223963386 and parameters: {'n_estimators': 1000, 'max_depth': 153, 'learning_rate': 0.00917801374705737, 'min_child_weight': 1}. Best is trial 38 with value: 0.9761986838365722.\n",
      "[I 2024-10-02 18:34:28,503] Trial 40 finished with value: 0.9753132380756376 and parameters: {'n_estimators': 780, 'max_depth': 160, 'learning_rate': 0.009789258095730419, 'min_child_weight': 1}. Best is trial 38 with value: 0.9761986838365722.\n",
      "[I 2024-10-02 18:34:39,423] Trial 41 finished with value: 0.975755960956105 and parameters: {'n_estimators': 948, 'max_depth': 150, 'learning_rate': 0.009087787300635477, 'min_child_weight': 1}. Best is trial 38 with value: 0.9761986838365722.\n",
      "[I 2024-10-02 18:34:50,227] Trial 42 finished with value: 0.9765309097501935 and parameters: {'n_estimators': 932, 'max_depth': 178, 'learning_rate': 0.009348262607511955, 'min_child_weight': 1}. Best is trial 42 with value: 0.9765309097501935.\n",
      "[I 2024-10-02 18:35:01,531] Trial 43 finished with value: 0.9765307872480129 and parameters: {'n_estimators': 999, 'max_depth': 179, 'learning_rate': 0.009994425200640705, 'min_child_weight': 1}. Best is trial 42 with value: 0.9765309097501935.\n",
      "[I 2024-10-02 18:35:12,317] Trial 44 finished with value: 0.9758665804251315 and parameters: {'n_estimators': 926, 'max_depth': 183, 'learning_rate': 0.009934082761666447, 'min_child_weight': 1}. Best is trial 42 with value: 0.9765309097501935.\n",
      "[I 2024-10-02 18:35:22,774] Trial 45 finished with value: 0.976310038318682 and parameters: {'n_estimators': 879, 'max_depth': 172, 'learning_rate': 0.009624870978465797, 'min_child_weight': 1}. Best is trial 42 with value: 0.9765309097501935.\n",
      "[I 2024-10-02 18:35:32,746] Trial 46 finished with value: 0.9761989288409334 and parameters: {'n_estimators': 875, 'max_depth': 183, 'learning_rate': 0.009669749251914796, 'min_child_weight': 1}. Best is trial 42 with value: 0.9765309097501935.\n",
      "[I 2024-10-02 18:35:41,227] Trial 47 finished with value: 0.9749808896598358 and parameters: {'n_estimators': 729, 'max_depth': 184, 'learning_rate': 0.009732940649521548, 'min_child_weight': 1}. Best is trial 42 with value: 0.9765309097501935.\n",
      "[I 2024-10-02 18:35:49,159] Trial 48 finished with value: 0.9747598957261439 and parameters: {'n_estimators': 679, 'max_depth': 170, 'learning_rate': 0.00997168509557407, 'min_child_weight': 1}. Best is trial 42 with value: 0.9765309097501935.\n",
      "[I 2024-10-02 18:35:58,264] Trial 49 finished with value: 0.9756452189848979 and parameters: {'n_estimators': 828, 'max_depth': 187, 'learning_rate': 0.009390354152278842, 'min_child_weight': 1}. Best is trial 42 with value: 0.9765309097501935.\n"
     ]
    }
   ],
   "source": [
    "study2=optuna.create_study(study_name='xgb_model2', direction='maximize')\n",
    "study2.optimize(objective2, n_trials=50)"
   ]
  },
  {
   "cell_type": "code",
   "execution_count": 157,
   "id": "6f81f4f6-d0b4-41f5-a28c-c3f7820c87b9",
   "metadata": {},
   "outputs": [
    {
     "data": {
      "text/html": [
       "<style>#sk-container-id-4 {color: black;background-color: white;}#sk-container-id-4 pre{padding: 0;}#sk-container-id-4 div.sk-toggleable {background-color: white;}#sk-container-id-4 label.sk-toggleable__label {cursor: pointer;display: block;width: 100%;margin-bottom: 0;padding: 0.3em;box-sizing: border-box;text-align: center;}#sk-container-id-4 label.sk-toggleable__label-arrow:before {content: \"▸\";float: left;margin-right: 0.25em;color: #696969;}#sk-container-id-4 label.sk-toggleable__label-arrow:hover:before {color: black;}#sk-container-id-4 div.sk-estimator:hover label.sk-toggleable__label-arrow:before {color: black;}#sk-container-id-4 div.sk-toggleable__content {max-height: 0;max-width: 0;overflow: hidden;text-align: left;background-color: #f0f8ff;}#sk-container-id-4 div.sk-toggleable__content pre {margin: 0.2em;color: black;border-radius: 0.25em;background-color: #f0f8ff;}#sk-container-id-4 input.sk-toggleable__control:checked~div.sk-toggleable__content {max-height: 200px;max-width: 100%;overflow: auto;}#sk-container-id-4 input.sk-toggleable__control:checked~label.sk-toggleable__label-arrow:before {content: \"▾\";}#sk-container-id-4 div.sk-estimator input.sk-toggleable__control:checked~label.sk-toggleable__label {background-color: #d4ebff;}#sk-container-id-4 div.sk-label input.sk-toggleable__control:checked~label.sk-toggleable__label {background-color: #d4ebff;}#sk-container-id-4 input.sk-hidden--visually {border: 0;clip: rect(1px 1px 1px 1px);clip: rect(1px, 1px, 1px, 1px);height: 1px;margin: -1px;overflow: hidden;padding: 0;position: absolute;width: 1px;}#sk-container-id-4 div.sk-estimator {font-family: monospace;background-color: #f0f8ff;border: 1px dotted black;border-radius: 0.25em;box-sizing: border-box;margin-bottom: 0.5em;}#sk-container-id-4 div.sk-estimator:hover {background-color: #d4ebff;}#sk-container-id-4 div.sk-parallel-item::after {content: \"\";width: 100%;border-bottom: 1px solid gray;flex-grow: 1;}#sk-container-id-4 div.sk-label:hover label.sk-toggleable__label {background-color: #d4ebff;}#sk-container-id-4 div.sk-serial::before {content: \"\";position: absolute;border-left: 1px solid gray;box-sizing: border-box;top: 0;bottom: 0;left: 50%;z-index: 0;}#sk-container-id-4 div.sk-serial {display: flex;flex-direction: column;align-items: center;background-color: white;padding-right: 0.2em;padding-left: 0.2em;position: relative;}#sk-container-id-4 div.sk-item {position: relative;z-index: 1;}#sk-container-id-4 div.sk-parallel {display: flex;align-items: stretch;justify-content: center;background-color: white;position: relative;}#sk-container-id-4 div.sk-item::before, #sk-container-id-4 div.sk-parallel-item::before {content: \"\";position: absolute;border-left: 1px solid gray;box-sizing: border-box;top: 0;bottom: 0;left: 50%;z-index: -1;}#sk-container-id-4 div.sk-parallel-item {display: flex;flex-direction: column;z-index: 1;position: relative;background-color: white;}#sk-container-id-4 div.sk-parallel-item:first-child::after {align-self: flex-end;width: 50%;}#sk-container-id-4 div.sk-parallel-item:last-child::after {align-self: flex-start;width: 50%;}#sk-container-id-4 div.sk-parallel-item:only-child::after {width: 0;}#sk-container-id-4 div.sk-dashed-wrapped {border: 1px dashed gray;margin: 0 0.4em 0.5em 0.4em;box-sizing: border-box;padding-bottom: 0.4em;background-color: white;}#sk-container-id-4 div.sk-label label {font-family: monospace;font-weight: bold;display: inline-block;line-height: 1.2em;}#sk-container-id-4 div.sk-label-container {text-align: center;}#sk-container-id-4 div.sk-container {/* jupyter's `normalize.less` sets `[hidden] { display: none; }` but bootstrap.min.css set `[hidden] { display: none !important; }` so we also need the `!important` here to be able to override the default hidden behavior on the sphinx rendered scikit-learn.org. See: https://github.com/scikit-learn/scikit-learn/issues/21755 */display: inline-block !important;position: relative;}#sk-container-id-4 div.sk-text-repr-fallback {display: none;}</style><div id=\"sk-container-id-4\" class=\"sk-top-container\"><div class=\"sk-text-repr-fallback\"><pre>XGBClassifier(base_score=None, booster=None, callbacks=None,\n",
       "              colsample_bylevel=None, colsample_bynode=None,\n",
       "              colsample_bytree=None, device=None, early_stopping_rounds=None,\n",
       "              enable_categorical=False, eval_metric=None, feature_types=None,\n",
       "              gamma=None, grow_policy=None, importance_type=None,\n",
       "              interaction_constraints=None, learning_rate=0.009348262607511955,\n",
       "              max_bin=None, max_cat_threshold=None, max_cat_to_onehot=None,\n",
       "              max_delta_step=None, max_depth=178, max_leaves=None,\n",
       "              min_child_weight=1, missing=nan, monotone_constraints=None,\n",
       "              multi_strategy=None, n_estimators=932, n_jobs=None,\n",
       "              num_parallel_tree=None, random_state=None, ...)</pre><b>In a Jupyter environment, please rerun this cell to show the HTML representation or trust the notebook. <br />On GitHub, the HTML representation is unable to render, please try loading this page with nbviewer.org.</b></div><div class=\"sk-container\" hidden><div class=\"sk-item\"><div class=\"sk-estimator sk-toggleable\"><input class=\"sk-toggleable__control sk-hidden--visually\" id=\"sk-estimator-id-4\" type=\"checkbox\" checked><label for=\"sk-estimator-id-4\" class=\"sk-toggleable__label sk-toggleable__label-arrow\">XGBClassifier</label><div class=\"sk-toggleable__content\"><pre>XGBClassifier(base_score=None, booster=None, callbacks=None,\n",
       "              colsample_bylevel=None, colsample_bynode=None,\n",
       "              colsample_bytree=None, device=None, early_stopping_rounds=None,\n",
       "              enable_categorical=False, eval_metric=None, feature_types=None,\n",
       "              gamma=None, grow_policy=None, importance_type=None,\n",
       "              interaction_constraints=None, learning_rate=0.009348262607511955,\n",
       "              max_bin=None, max_cat_threshold=None, max_cat_to_onehot=None,\n",
       "              max_delta_step=None, max_depth=178, max_leaves=None,\n",
       "              min_child_weight=1, missing=nan, monotone_constraints=None,\n",
       "              multi_strategy=None, n_estimators=932, n_jobs=None,\n",
       "              num_parallel_tree=None, random_state=None, ...)</pre></div></div></div></div></div>"
      ],
      "text/plain": [
       "XGBClassifier(base_score=None, booster=None, callbacks=None,\n",
       "              colsample_bylevel=None, colsample_bynode=None,\n",
       "              colsample_bytree=None, device=None, early_stopping_rounds=None,\n",
       "              enable_categorical=False, eval_metric=None, feature_types=None,\n",
       "              gamma=None, grow_policy=None, importance_type=None,\n",
       "              interaction_constraints=None, learning_rate=0.009348262607511955,\n",
       "              max_bin=None, max_cat_threshold=None, max_cat_to_onehot=None,\n",
       "              max_delta_step=None, max_depth=178, max_leaves=None,\n",
       "              min_child_weight=1, missing=nan, monotone_constraints=None,\n",
       "              multi_strategy=None, n_estimators=932, n_jobs=None,\n",
       "              num_parallel_tree=None, random_state=None, ...)"
      ]
     },
     "execution_count": 157,
     "metadata": {},
     "output_type": "execute_result"
    }
   ],
   "source": [
    "xgb2=XGBClassifier(**study2.best_params)\n",
    "xgb2.fit(X_train,y_train)"
   ]
  },
  {
   "cell_type": "code",
   "execution_count": 158,
   "id": "55c49f86-2832-4258-a432-9c729026a8d9",
   "metadata": {},
   "outputs": [
    {
     "name": "stdout",
     "output_type": "stream",
     "text": [
      "f1_score is: 0.9808327825512226\n"
     ]
    },
    {
     "data": {
      "text/plain": [
       "<Axes: >"
      ]
     },
     "execution_count": 158,
     "metadata": {},
     "output_type": "execute_result"
    },
    {
     "data": {
      "image/png": "[encoded data removed]",
      "text/plain": [
       "<Figure size 640x480 with 2 Axes>"
      ]
     },
     "metadata": {},
     "output_type": "display_data"
    }
   ],
   "source": [
    "y_pred2=xgb2.predict(X_test)\n",
    "print(f'f1_score is: {f1_score(y_test,y_pred2)}')\n",
    "sns.heatmap(confusion_matrix(y_test,y_pred2), annot=True, fmt='d', cmap='BuGn')"
   ]
  },
  {
   "cell_type": "code",
   "execution_count": null,
   "id": "1715f319-188c-41e7-9896-dcd388503ae1",
   "metadata": {},
   "outputs": [],
   "source": []
  }
 ],
 "metadata": {
  "kernelspec": {
   "display_name": "Python 3 (ipykernel)",
   "language": "python",
   "name": "python3"
  },
  "language_info": {
   "codemirror_mode": {
    "name": "ipython",
    "version": 3
   },
   "file_extension": ".py",
   "mimetype": "text/x-python",
   "name": "python",
   "nbconvert_exporter": "python",
   "pygments_lexer": "ipython3",
   "version": "3.11.7"
  }
 },
 "nbformat": 4,
 "nbformat_minor": 5
}
